{
 "cells": [
  {
   "cell_type": "code",
   "execution_count": 1,
   "metadata": {
    "collapsed": true
   },
   "outputs": [],
   "source": [
    "%matplotlib inline \n",
    "import pandas as pd\n",
    "import matplotlib.pyplot as plt\n",
    "import seaborn as sns"
   ]
  },
  {
   "cell_type": "code",
   "execution_count": 3,
   "metadata": {
    "collapsed": true
   },
   "outputs": [],
   "source": [
    "Base_de_Datos= pd.read_csv('RegresiMadres.csv')"
   ]
  },
  {
   "cell_type": "code",
   "execution_count": null,
   "metadata": {
    "collapsed": true,
    "scrolled": false
   },
   "outputs": [],
   "source": [
    "Base_de_Datos['TALLAR']\n",
    "Base_de_Datos.SEM"
   ]
  },
  {
   "cell_type": "code",
   "execution_count": 5,
   "metadata": {
    "collapsed": true
   },
   "outputs": [],
   "source": [
    "Datos=pd.DataFrame(Base_de_Datos)\n",
    "#lo convertimos en un data frame"
   ]
  },
  {
   "cell_type": "code",
   "execution_count": 6,
   "metadata": {
    "scrolled": true
   },
   "outputs": [
    {
     "data": {
      "text/html": [
       "<div>\n",
       "<style>\n",
       "    .dataframe thead tr:only-child th {\n",
       "        text-align: right;\n",
       "    }\n",
       "\n",
       "    .dataframe thead th {\n",
       "        text-align: left;\n",
       "    }\n",
       "\n",
       "    .dataframe tbody tr th {\n",
       "        vertical-align: top;\n",
       "    }\n",
       "</style>\n",
       "<table border=\"1\" class=\"dataframe\">\n",
       "  <thead>\n",
       "    <tr style=\"text-align: right;\">\n",
       "      <th></th>\n",
       "      <th>PESOM</th>\n",
       "      <th>TALLAM</th>\n",
       "      <th>SEM</th>\n",
       "      <th>PASM</th>\n",
       "      <th>PADM</th>\n",
       "      <th>PESOR</th>\n",
       "      <th>TALLAR</th>\n",
       "      <th>PTR</th>\n",
       "      <th>PCR</th>\n",
       "    </tr>\n",
       "  </thead>\n",
       "  <tbody>\n",
       "    <tr>\n",
       "      <th>0</th>\n",
       "      <td>59</td>\n",
       "      <td>160</td>\n",
       "      <td>39</td>\n",
       "      <td>150</td>\n",
       "      <td>90</td>\n",
       "      <td>3.5</td>\n",
       "      <td>51</td>\n",
       "      <td>33</td>\n",
       "      <td>35</td>\n",
       "    </tr>\n",
       "    <tr>\n",
       "      <th>1</th>\n",
       "      <td>65</td>\n",
       "      <td>166</td>\n",
       "      <td>38</td>\n",
       "      <td>160</td>\n",
       "      <td>100</td>\n",
       "      <td>3.2</td>\n",
       "      <td>50</td>\n",
       "      <td>32</td>\n",
       "      <td>35</td>\n",
       "    </tr>\n",
       "    <tr>\n",
       "      <th>2</th>\n",
       "      <td>68</td>\n",
       "      <td>173</td>\n",
       "      <td>38</td>\n",
       "      <td>100</td>\n",
       "      <td>55</td>\n",
       "      <td>3.2</td>\n",
       "      <td>51</td>\n",
       "      <td>31</td>\n",
       "      <td>36</td>\n",
       "    </tr>\n",
       "  </tbody>\n",
       "</table>\n",
       "</div>"
      ],
      "text/plain": [
       "   PESOM  TALLAM  SEM  PASM  PADM  PESOR  TALLAR  PTR  PCR\n",
       "0     59     160   39   150    90    3.5      51   33   35\n",
       "1     65     166   38   160   100    3.2      50   32   35\n",
       "2     68     173   38   100    55    3.2      51   31   36"
      ]
     },
     "execution_count": 6,
     "metadata": {},
     "output_type": "execute_result"
    }
   ],
   "source": [
    "Datos.head(3)"
   ]
  },
  {
   "cell_type": "code",
   "execution_count": 7,
   "metadata": {},
   "outputs": [
    {
     "data": {
      "image/png": "[encoded data removed]",
      "text/plain": [
       "<matplotlib.figure.Figure at 0x163d144c518>"
      ]
     },
     "metadata": {},
     "output_type": "display_data"
    }
   ],
   "source": [
    "sns.set(style=\"darkgrid\")\n",
    "\n",
    "g = sns.jointplot(\"SEM\", \"TALLAR\", data=Datos,kind=\"reg\",\n",
    "                  xlim=(30, 45), ylim=(40, 60), color=\"g\")"
   ]
  },
  {
   "cell_type": "code",
   "execution_count": 8,
   "metadata": {
    "collapsed": true
   },
   "outputs": [],
   "source": [
    "import numpy as np\n",
    "from sklearn.linear_model import LinearRegression\n"
   ]
  },
  {
   "cell_type": "code",
   "execution_count": 9,
   "metadata": {
    "collapsed": true
   },
   "outputs": [],
   "source": [
    "x=np.array([5,15,25,35,45,55]).reshape((-1,1))\n",
    "y=np.array([5,20,14,32,22,30])"
   ]
  },
  {
   "cell_type": "code",
   "execution_count": 12,
   "metadata": {
    "collapsed": true
   },
   "outputs": [],
   "source": [
    "x=np.array(Base_de_Datos['SEM']).reshape((-1,1))\n",
    "y=np.array(Base_de_Datos['TALLAR'])"
   ]
  },
  {
   "cell_type": "code",
   "execution_count": 22,
   "metadata": {
    "collapsed": true
   },
   "outputs": [],
   "source": [
    "x=np.array(Datos.SEM).reshape((-1,1))\n",
    "y=np.array(Datos.TALLAR)"
   ]
  },
  {
   "cell_type": "code",
   "execution_count": 23,
   "metadata": {
    "collapsed": true,
    "scrolled": true
   },
   "outputs": [],
   "source": [
    "model=LinearRegression()\n",
    "model.fit(x,y)\n",
    "R_sq=model.score(x,y)"
   ]
  },
  {
   "cell_type": "code",
   "execution_count": 26,
   "metadata": {
    "scrolled": true
   },
   "outputs": [
    {
     "name": "stdout",
     "output_type": "stream",
     "text": [
      "coeficiente de determinación 0.820584441884\n",
      "intercepto b0 0.505747126437\n",
      "pendiente b1 [ 1.29885057]\n"
     ]
    }
   ],
   "source": [
    "print(\"coeficiente de determinación\",R_sq)\n",
    "print(\"intercepto b0\",model.intercept_)\n",
    "print(\"pendiente b1\",model.coef_)"
   ]
  },
  {
   "cell_type": "code",
   "execution_count": 27,
   "metadata": {},
   "outputs": [
    {
     "name": "stdout",
     "output_type": "stream",
     "text": [
      "valores predichos [ 51.16091954  49.86206897  49.86206897  52.45977011  48.56321839\n",
      "  51.16091954  53.75862069  51.16091954  47.26436782  48.56321839\n",
      "  48.56321839  49.86206897  51.16091954  49.86206897  47.26436782\n",
      "  51.16091954  48.56321839  49.86206897  49.86206897  45.96551724\n",
      "  49.86206897  49.86206897  49.86206897  52.45977011  51.16091954\n",
      "  48.56321839  47.26436782  51.16091954  49.86206897  49.86206897\n",
      "  52.45977011  51.16091954  48.56321839  49.86206897  51.16091954\n",
      "  49.86206897  49.86206897  53.75862069  49.86206897  49.86206897\n",
      "  48.56321839  51.16091954  48.56321839  52.45977011  51.16091954\n",
      "  48.56321839  49.86206897  49.86206897  49.86206897  49.86206897\n",
      "  49.86206897  51.16091954  45.96551724  49.86206897  48.56321839\n",
      "  49.86206897  51.16091954  47.26436782  51.16091954  47.26436782\n",
      "  48.56321839  49.86206897  49.86206897  49.86206897  49.86206897\n",
      "  53.75862069  48.56321839  51.16091954  51.16091954  49.86206897\n",
      "  48.56321839  52.45977011  49.86206897  51.16091954  48.56321839\n",
      "  49.86206897  51.16091954  52.45977011  49.86206897  49.86206897\n",
      "  49.86206897  48.56321839  51.16091954  47.26436782  49.86206897\n",
      "  49.86206897  49.86206897  48.56321839  51.16091954  53.75862069\n",
      "  48.56321839  47.26436782  49.86206897  51.16091954  49.86206897\n",
      "  49.86206897  49.86206897  51.16091954  48.56321839  47.26436782]\n",
      "valores reales [51 50 51 53 49 50 53 50 47 50 48 50 51 50 47 50 48 51 50 45 49 50 51 53 51\n",
      " 49 47 50 50 49 54 50 49 50 51 50 50 54 50 49 49 52 49 53 51 49 50 49 50 49\n",
      " 51 52 45 50 49 49 50 47 50 47 49 51 50 49 50 54 49 51 50 50 49 53 49 51 49\n",
      " 51 51 53 49 50 51 49 52 47 50 51 49 49 52 53 50 47 50 51 51 50 49 49 49 46]\n"
     ]
    }
   ],
   "source": [
    "y_pred=model.predict(x)\n",
    "print(\"valores predichos\",y_pred)\n",
    "print(\"valores reales\",y)"
   ]
  },
  {
   "cell_type": "code",
   "execution_count": 38,
   "metadata": {
    "collapsed": true
   },
   "outputs": [],
   "source": [
    "#error cuadrático medio\n",
    "from sklearn.metrics import mean_squared_error\n",
    "from math import sqrt\n",
    "\n",
    "rms = sqrt(mean_squared_error(y,y_pred))"
   ]
  },
  {
   "cell_type": "code",
   "execution_count": 39,
   "metadata": {},
   "outputs": [
    {
     "name": "stdout",
     "output_type": "stream",
     "text": [
      "0.7429360827073247\n"
     ]
    }
   ],
   "source": [
    "print(rms)"
   ]
  },
  {
   "cell_type": "code",
   "execution_count": null,
   "metadata": {
    "collapsed": true
   },
   "outputs": [],
   "source": []
  }
 ],
 "metadata": {
  "kernelspec": {
   "display_name": "Python 3",
   "language": "python",
   "name": "python3"
  },
  "language_info": {
   "codemirror_mode": {
    "name": "ipython",
    "version": 3
   },
   "file_extension": ".py",
   "mimetype": "text/x-python",
   "name": "python",
   "nbconvert_exporter": "python",
   "pygments_lexer": "ipython3",
   "version": "3.6.2"
  }
 },
 "nbformat": 4,
 "nbformat_minor": 2
}
