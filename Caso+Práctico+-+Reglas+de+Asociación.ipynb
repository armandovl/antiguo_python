{
 "cells": [
  {
   "cell_type": "code",
   "execution_count": 11,
   "metadata": {},
   "outputs": [],
   "source": [
    "import numpy as np  \n",
    "import matplotlib.pyplot as plt  \n",
    "import pandas as pd  \n",
    "from apyori import apriori"
   ]
  },
  {
   "cell_type": "markdown",
   "metadata": {},
   "source": [
    "# Importar datos"
   ]
  },
  {
   "cell_type": "code",
   "execution_count": 12,
   "metadata": {},
   "outputs": [],
   "source": [
    "df_data = pd.read_excel(r'C:\\Users\\Iván\\Dropbox\\Creación de MOCs\\MOC Machine Learning con Python\\Casos Prácticos ML\\Reglas asociación\\summary_transactions.xlsx', header = None)"
   ]
  },
  {
   "cell_type": "code",
   "execution_count": 13,
   "metadata": {},
   "outputs": [
    {
     "data": {
      "text/html": [
       "<div>\n",
       "<style scoped>\n",
       "    .dataframe tbody tr th:only-of-type {\n",
       "        vertical-align: middle;\n",
       "    }\n",
       "\n",
       "    .dataframe tbody tr th {\n",
       "        vertical-align: top;\n",
       "    }\n",
       "\n",
       "    .dataframe thead th {\n",
       "        text-align: right;\n",
       "    }\n",
       "</style>\n",
       "<table border=\"1\" class=\"dataframe\">\n",
       "  <thead>\n",
       "    <tr style=\"text-align: right;\">\n",
       "      <th></th>\n",
       "      <th>0</th>\n",
       "      <th>1</th>\n",
       "      <th>2</th>\n",
       "      <th>3</th>\n",
       "      <th>4</th>\n",
       "      <th>5</th>\n",
       "      <th>6</th>\n",
       "      <th>7</th>\n",
       "      <th>8</th>\n",
       "      <th>9</th>\n",
       "      <th>...</th>\n",
       "      <th>472</th>\n",
       "      <th>473</th>\n",
       "      <th>474</th>\n",
       "      <th>475</th>\n",
       "      <th>476</th>\n",
       "      <th>477</th>\n",
       "      <th>478</th>\n",
       "      <th>479</th>\n",
       "      <th>480</th>\n",
       "      <th>481</th>\n",
       "    </tr>\n",
       "  </thead>\n",
       "  <tbody>\n",
       "    <tr>\n",
       "      <th>0</th>\n",
       "      <td>WHITE HANGING HEART T-LIGHT HOLDER</td>\n",
       "      <td>WHITE METAL LANTERN</td>\n",
       "      <td>CREAM CUPID HEARTS COAT HANGER</td>\n",
       "      <td>KNITTED UNION FLAG HOT WATER BOTTLE</td>\n",
       "      <td>RED WOOLLY HOTTIE WHITE HEART.</td>\n",
       "      <td>SET 7 BABUSHKA NESTING BOXES</td>\n",
       "      <td>GLASS STAR FROSTED T-LIGHT HOLDER</td>\n",
       "      <td>HAND WARMER UNION JACK</td>\n",
       "      <td>HAND WARMER RED POLKA DOT</td>\n",
       "      <td>NaN</td>\n",
       "      <td>...</td>\n",
       "      <td>NaN</td>\n",
       "      <td>NaN</td>\n",
       "      <td>NaN</td>\n",
       "      <td>NaN</td>\n",
       "      <td>NaN</td>\n",
       "      <td>NaN</td>\n",
       "      <td>NaN</td>\n",
       "      <td>NaN</td>\n",
       "      <td>NaN</td>\n",
       "      <td>NaN</td>\n",
       "    </tr>\n",
       "    <tr>\n",
       "      <th>1</th>\n",
       "      <td>ASSORTED COLOUR BIRD ORNAMENT</td>\n",
       "      <td>POPPY'S PLAYHOUSE BEDROOM</td>\n",
       "      <td>POPPY'S PLAYHOUSE KITCHEN</td>\n",
       "      <td>FELTCRAFT PRINCESS CHARLOTTE DOLL</td>\n",
       "      <td>IVORY KNITTED MUG COSY</td>\n",
       "      <td>BOX OF 6 ASSORTED COLOUR TEASPOONS</td>\n",
       "      <td>BOX OF VINTAGE JIGSAW BLOCKS</td>\n",
       "      <td>BOX OF VINTAGE ALPHABET BLOCKS</td>\n",
       "      <td>HOME BUILDING BLOCK WORD</td>\n",
       "      <td>LOVE BUILDING BLOCK WORD</td>\n",
       "      <td>...</td>\n",
       "      <td>NaN</td>\n",
       "      <td>NaN</td>\n",
       "      <td>NaN</td>\n",
       "      <td>NaN</td>\n",
       "      <td>NaN</td>\n",
       "      <td>NaN</td>\n",
       "      <td>NaN</td>\n",
       "      <td>NaN</td>\n",
       "      <td>NaN</td>\n",
       "      <td>NaN</td>\n",
       "    </tr>\n",
       "    <tr>\n",
       "      <th>2</th>\n",
       "      <td>ALARM CLOCK BAKELIKE PINK</td>\n",
       "      <td>ALARM CLOCK BAKELIKE RED</td>\n",
       "      <td>ALARM CLOCK BAKELIKE GREEN</td>\n",
       "      <td>PANDA AND BUNNIES STICKER SHEET</td>\n",
       "      <td>STARS GIFT TAPE</td>\n",
       "      <td>INFLATABLE POLITICAL GLOBE</td>\n",
       "      <td>VINTAGE HEADS AND TAILS CARD GAME</td>\n",
       "      <td>SET/2 RED RETROSPOT TEA TOWELS</td>\n",
       "      <td>ROUND SNACK BOXES SET OF4 WOODLAND</td>\n",
       "      <td>SPACEBOY LUNCH BOX</td>\n",
       "      <td>...</td>\n",
       "      <td>NaN</td>\n",
       "      <td>NaN</td>\n",
       "      <td>NaN</td>\n",
       "      <td>NaN</td>\n",
       "      <td>NaN</td>\n",
       "      <td>NaN</td>\n",
       "      <td>NaN</td>\n",
       "      <td>NaN</td>\n",
       "      <td>NaN</td>\n",
       "      <td>NaN</td>\n",
       "    </tr>\n",
       "    <tr>\n",
       "      <th>3</th>\n",
       "      <td>PAPER CHAIN KIT 50'S CHRISTMAS</td>\n",
       "      <td>NaN</td>\n",
       "      <td>NaN</td>\n",
       "      <td>NaN</td>\n",
       "      <td>NaN</td>\n",
       "      <td>NaN</td>\n",
       "      <td>NaN</td>\n",
       "      <td>NaN</td>\n",
       "      <td>NaN</td>\n",
       "      <td>NaN</td>\n",
       "      <td>...</td>\n",
       "      <td>NaN</td>\n",
       "      <td>NaN</td>\n",
       "      <td>NaN</td>\n",
       "      <td>NaN</td>\n",
       "      <td>NaN</td>\n",
       "      <td>NaN</td>\n",
       "      <td>NaN</td>\n",
       "      <td>NaN</td>\n",
       "      <td>NaN</td>\n",
       "      <td>NaN</td>\n",
       "    </tr>\n",
       "    <tr>\n",
       "      <th>4</th>\n",
       "      <td>EDWARDIAN PARASOL RED</td>\n",
       "      <td>RETRO COFFEE MUGS ASSORTED</td>\n",
       "      <td>SAVE THE PLANET MUG</td>\n",
       "      <td>VINTAGE BILLBOARD DRINK ME MUG</td>\n",
       "      <td>VINTAGE BILLBOARD LOVE/HATE MUG</td>\n",
       "      <td>WOOD 2 DRAWER CABINET WHITE FINISH</td>\n",
       "      <td>WOOD S/3 CABINET ANT WHITE FINISH</td>\n",
       "      <td>WOODEN PICTURE FRAME WHITE FINISH</td>\n",
       "      <td>WOODEN FRAME ANTIQUE WHITE</td>\n",
       "      <td>NaN</td>\n",
       "      <td>...</td>\n",
       "      <td>NaN</td>\n",
       "      <td>NaN</td>\n",
       "      <td>NaN</td>\n",
       "      <td>NaN</td>\n",
       "      <td>NaN</td>\n",
       "      <td>NaN</td>\n",
       "      <td>NaN</td>\n",
       "      <td>NaN</td>\n",
       "      <td>NaN</td>\n",
       "      <td>NaN</td>\n",
       "    </tr>\n",
       "  </tbody>\n",
       "</table>\n",
       "<p>5 rows × 482 columns</p>\n",
       "</div>"
      ],
      "text/plain": [
       "                                  0                           1    \\\n",
       "0  WHITE HANGING HEART T-LIGHT HOLDER         WHITE METAL LANTERN   \n",
       "1       ASSORTED COLOUR BIRD ORNAMENT  POPPY'S PLAYHOUSE BEDROOM    \n",
       "2           ALARM CLOCK BAKELIKE PINK   ALARM CLOCK BAKELIKE RED    \n",
       "3     PAPER CHAIN KIT 50'S CHRISTMAS                          NaN   \n",
       "4               EDWARDIAN PARASOL RED  RETRO COFFEE MUGS ASSORTED   \n",
       "\n",
       "                              2                                    3    \\\n",
       "0  CREAM CUPID HEARTS COAT HANGER  KNITTED UNION FLAG HOT WATER BOTTLE   \n",
       "1       POPPY'S PLAYHOUSE KITCHEN    FELTCRAFT PRINCESS CHARLOTTE DOLL   \n",
       "2      ALARM CLOCK BAKELIKE GREEN      PANDA AND BUNNIES STICKER SHEET   \n",
       "3                             NaN                                  NaN   \n",
       "4             SAVE THE PLANET MUG       VINTAGE BILLBOARD DRINK ME MUG   \n",
       "\n",
       "                               4                                   5    \\\n",
       "0   RED WOOLLY HOTTIE WHITE HEART.        SET 7 BABUSHKA NESTING BOXES   \n",
       "1          IVORY KNITTED MUG COSY   BOX OF 6 ASSORTED COLOUR TEASPOONS   \n",
       "2                 STARS GIFT TAPE          INFLATABLE POLITICAL GLOBE    \n",
       "3                              NaN                                 NaN   \n",
       "4  VINTAGE BILLBOARD LOVE/HATE MUG  WOOD 2 DRAWER CABINET WHITE FINISH   \n",
       "\n",
       "                                  6                                  7    \\\n",
       "0   GLASS STAR FROSTED T-LIGHT HOLDER             HAND WARMER UNION JACK   \n",
       "1       BOX OF VINTAGE JIGSAW BLOCKS      BOX OF VINTAGE ALPHABET BLOCKS   \n",
       "2  VINTAGE HEADS AND TAILS CARD GAME     SET/2 RED RETROSPOT TEA TOWELS    \n",
       "3                                 NaN                                NaN   \n",
       "4   WOOD S/3 CABINET ANT WHITE FINISH  WOODEN PICTURE FRAME WHITE FINISH   \n",
       "\n",
       "                                   8                         9   ...   472  \\\n",
       "0            HAND WARMER RED POLKA DOT                       NaN ...   NaN   \n",
       "1             HOME BUILDING BLOCK WORD  LOVE BUILDING BLOCK WORD ...   NaN   \n",
       "2  ROUND SNACK BOXES SET OF4 WOODLAND        SPACEBOY LUNCH BOX  ...   NaN   \n",
       "3                                  NaN                       NaN ...   NaN   \n",
       "4          WOODEN FRAME ANTIQUE WHITE                        NaN ...   NaN   \n",
       "\n",
       "   473  474  475  476  477  478  479  480  481  \n",
       "0  NaN  NaN  NaN  NaN  NaN  NaN  NaN  NaN  NaN  \n",
       "1  NaN  NaN  NaN  NaN  NaN  NaN  NaN  NaN  NaN  \n",
       "2  NaN  NaN  NaN  NaN  NaN  NaN  NaN  NaN  NaN  \n",
       "3  NaN  NaN  NaN  NaN  NaN  NaN  NaN  NaN  NaN  \n",
       "4  NaN  NaN  NaN  NaN  NaN  NaN  NaN  NaN  NaN  \n",
       "\n",
       "[5 rows x 482 columns]"
      ]
     },
     "execution_count": 13,
     "metadata": {},
     "output_type": "execute_result"
    }
   ],
   "source": [
    "df_data.head()"
   ]
  },
  {
   "cell_type": "markdown",
   "metadata": {},
   "source": [
    "# Pre-procesado Apriori (cada transacción de productos 1 lista + 1 lista global con todas las listas) - Convertir DF"
   ]
  },
  {
   "cell_type": "code",
   "execution_count": 14,
   "metadata": {},
   "outputs": [],
   "source": [
    "records = []  \n",
    "for i in range(0, len(df_data)):  \n",
    "    records.append([str(df_data.values[i,j]) for j in range(0, len(df_data.columns))])"
   ]
  },
  {
   "cell_type": "markdown",
   "metadata": {},
   "source": [
    "# Definir umbrales"
   ]
  },
  {
   "cell_type": "code",
   "execution_count": 15,
   "metadata": {},
   "outputs": [],
   "source": [
    "lon_min = 2 # Número mínimo de productos a considerar en las reglas\n",
    "\n",
    "#Cálculo soporte\n",
    "# Imaginamos datos de 1 semana, queremos que los productos a considerar al menos se hayan comprado 3 veces al día \n",
    "# sobre el total de 376 transacciones  --> soporte = 3 * 7 / 376 = 0.056\n",
    "min_dia = 3\n",
    "rango_datos_dias = 7\n",
    "soporte_min = min_dia * rango_datos_dias / len(df_data)\n",
    "\n",
    "confianza_min =0.2\n",
    "sustento_min =3"
   ]
  },
  {
   "cell_type": "markdown",
   "metadata": {},
   "source": [
    "# Ejecutar algoritmo apriori"
   ]
  },
  {
   "cell_type": "code",
   "execution_count": 16,
   "metadata": {},
   "outputs": [],
   "source": [
    "association_rules = apriori(records, min_support=soporte_min, min_confidence=confianza_min, min_lift=sustento_min, min_length=lon_min)  \n",
    "association_results = list(association_rules)  #Convertir los resultados a lista para facilidad de visualización"
   ]
  },
  {
   "cell_type": "markdown",
   "metadata": {},
   "source": [
    "# Resultados"
   ]
  },
  {
   "cell_type": "code",
   "execution_count": 17,
   "metadata": {},
   "outputs": [
    {
     "data": {
      "text/plain": [
       "13"
      ]
     },
     "execution_count": 17,
     "metadata": {},
     "output_type": "execute_result"
    }
   ],
   "source": [
    "len(association_results) # Número total de reglas (combinaciones) por el algoritmo"
   ]
  },
  {
   "cell_type": "code",
   "execution_count": 18,
   "metadata": {},
   "outputs": [
    {
     "data": {
      "text/plain": [
       "RelationRecord(items=frozenset({'HAND WARMER BIRD DESIGN', 'HAND WARMER OWL DESIGN'}), support=0.05851063829787234, ordered_statistics=[OrderedStatistic(items_base=frozenset({'HAND WARMER BIRD DESIGN'}), items_add=frozenset({'HAND WARMER OWL DESIGN'}), confidence=0.6111111111111112, lift=4.888888888888889), OrderedStatistic(items_base=frozenset({'HAND WARMER OWL DESIGN'}), items_add=frozenset({'HAND WARMER BIRD DESIGN'}), confidence=0.46808510638297873, lift=4.888888888888889)])"
      ]
     },
     "execution_count": 18,
     "metadata": {},
     "output_type": "execute_result"
    }
   ],
   "source": [
    "# Visualizar 1 resultado\n",
    "association_results[0]"
   ]
  },
  {
   "cell_type": "code",
   "execution_count": 19,
   "metadata": {},
   "outputs": [
    {
     "name": "stdout",
     "output_type": "stream",
     "text": [
      "Regla: HAND WARMER BIRD DESIGN -> HAND WARMER OWL DESIGN\n",
      "Soporte: 0.05851063829787234\n",
      "Confianza: 0.6111111111111112\n",
      "Sustento: 4.888888888888889\n",
      "=====================================\n",
      "Regla: HAND WARMER BIRD DESIGN -> HAND WARMER SCOTTY DOG DESIGN\n",
      "Soporte: 0.05585106382978723\n",
      "Confianza: 0.5833333333333333\n",
      "Sustento: 4.984848484848484\n",
      "=====================================\n",
      "Regla: HAND WARMER RED RETROSPOT -> HAND WARMER OWL DESIGN\n",
      "Soporte: 0.06648936170212766\n",
      "Confianza: 0.5319148936170213\n",
      "Sustento: 5.405405405405405\n",
      "=====================================\n",
      "Regla: HAND WARMER SCOTTY DOG DESIGN -> HAND WARMER OWL DESIGN\n",
      "Soporte: 0.0851063829787234\n",
      "Confianza: 0.6808510638297872\n",
      "Sustento: 5.818181818181818\n",
      "=====================================\n",
      "Regla: HAND WARMER SCOTTY DOG DESIGN -> HAND WARMER RED RETROSPOT\n",
      "Soporte: 0.05851063829787234\n",
      "Confianza: 0.5945945945945946\n",
      "Sustento: 5.081081081081082\n",
      "=====================================\n",
      "Regla: HAND WARMER SCOTTY DOG DESIGN -> HAND WARMER UNION JACK\n",
      "Soporte: 0.05585106382978723\n",
      "Confianza: 0.47727272727272724\n",
      "Sustento: 5.127272727272727\n",
      "=====================================\n",
      "Regla: PAPER CHAIN KIT VINTAGE CHRISTMAS -> PAPER CHAIN KIT 50'S CHRISTMAS \n",
      "Soporte: 0.05851063829787234\n",
      "Confianza: 0.55\n",
      "Sustento: 5.302564102564103\n",
      "=====================================\n",
      "Regla: HAND WARMER BIRD DESIGN -> nan\n",
      "Soporte: 0.05585106382978723\n",
      "Confianza: 0.6\n",
      "Sustento: 4.8\n",
      "=====================================\n",
      "Regla: HAND WARMER RED RETROSPOT -> nan\n",
      "Soporte: 0.06648936170212766\n",
      "Confianza: 0.5434782608695652\n",
      "Sustento: 5.522914218566392\n",
      "=====================================\n",
      "Regla: HAND WARMER SCOTTY DOG DESIGN -> nan\n",
      "Soporte: 0.08244680851063829\n",
      "Confianza: 0.6739130434782609\n",
      "Sustento: 5.758893280632411\n",
      "=====================================\n",
      "Regla: HAND WARMER SCOTTY DOG DESIGN -> HAND WARMER RED RETROSPOT\n",
      "Soporte: 0.05851063829787234\n",
      "Confianza: 0.5945945945945946\n",
      "Sustento: 5.081081081081082\n",
      "=====================================\n",
      "Regla: HAND WARMER SCOTTY DOG DESIGN -> nan\n",
      "Soporte: 0.05585106382978723\n",
      "Confianza: 0.4883720930232558\n",
      "Sustento: 5.246511627906977\n",
      "=====================================\n",
      "Regla: PAPER CHAIN KIT VINTAGE CHRISTMAS -> PAPER CHAIN KIT 50'S CHRISTMAS \n",
      "Soporte: 0.05851063829787234\n",
      "Confianza: 0.55\n",
      "Sustento: 5.302564102564103\n",
      "=====================================\n"
     ]
    }
   ],
   "source": [
    "# Visualizar todos los resultados\n",
    "for item in association_results:\n",
    "\n",
    "    pair = item[0] \n",
    "    items = [x for x in pair]\n",
    "    print(\"Regla: \" + items[0] + \" -> \" + items[1])\n",
    "\n",
    "    #second index of the inner list\n",
    "    print(\"Soporte: \" + str(item[1]))\n",
    "\n",
    "    #third index of the list located at 0th\n",
    "    #of the third index of the inner list\n",
    "\n",
    "    print(\"Confianza: \" + str(item[2][0][2]))\n",
    "    print(\"Sustento: \" + str(item[2][0][3]))\n",
    "    print(\"=====================================\")"
   ]
  },
  {
   "cell_type": "code",
   "execution_count": null,
   "metadata": {
    "collapsed": true
   },
   "outputs": [],
   "source": []
  },
  {
   "cell_type": "code",
   "execution_count": null,
   "metadata": {
    "collapsed": true
   },
   "outputs": [],
   "source": []
  }
 ],
 "metadata": {
  "kernelspec": {
   "display_name": "Python 3",
   "language": "python",
   "name": "python3"
  }
 },
 "nbformat": 4,
 "nbformat_minor": 2
}
