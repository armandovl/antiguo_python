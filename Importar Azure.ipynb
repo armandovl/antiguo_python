{
 "cells": [
  {
   "cell_type": "code",
   "execution_count": 1,
   "metadata": {},
   "outputs": [
    {
     "ename": "ModuleNotFoundError",
     "evalue": "No module named 'azureml'",
     "output_type": "error",
     "traceback": [
      "\u001b[1;31m---------------------------------------------------------------------------\u001b[0m",
      "\u001b[1;31mModuleNotFoundError\u001b[0m                       Traceback (most recent call last)",
      "\u001b[1;32m<ipython-input-1-32834d657b13>\u001b[0m in \u001b[0;36m<module>\u001b[1;34m()\u001b[0m\n\u001b[1;32m----> 1\u001b[1;33m \u001b[1;32mfrom\u001b[0m \u001b[0mazureml\u001b[0m \u001b[1;32mimport\u001b[0m \u001b[0mWorkspace\u001b[0m\u001b[1;33m\u001b[0m\u001b[0m\n\u001b[0m\u001b[0;32m      2\u001b[0m ws = Workspace(\n\u001b[0;32m      3\u001b[0m     \u001b[0mworkspace_id\u001b[0m\u001b[1;33m=\u001b[0m\u001b[1;34m'1015d2f339dd49a298ab956d5fde5015'\u001b[0m\u001b[1;33m,\u001b[0m\u001b[1;33m\u001b[0m\u001b[0m\n\u001b[0;32m      4\u001b[0m     \u001b[0mauthorization_token\u001b[0m\u001b[1;33m=\u001b[0m\u001b[1;34m'GWcVE+0JlvNWXxPzlZdg+X7QFHKqG3kdZ1Q1ApgWCPp6RmvSnyKOlWMbDvZiGtRqBil6IlWRgblWi4HMdsxjVw=='\u001b[0m\u001b[1;33m,\u001b[0m\u001b[1;33m\u001b[0m\u001b[0m\n\u001b[0;32m      5\u001b[0m     \u001b[0mendpoint\u001b[0m\u001b[1;33m=\u001b[0m\u001b[1;34m'https://studioapi.azureml.net'\u001b[0m\u001b[1;33m\u001b[0m\u001b[0m\n",
      "\u001b[1;31mModuleNotFoundError\u001b[0m: No module named 'azureml'"
     ]
    }
   ],
   "source": [
    "\n",
    "from azureml import Workspace\n",
    "ws = Workspace(\n",
    "    workspace_id='1015d2f339dd49a298ab956d5fde5015',\n",
    "    authorization_token='GWcVE+0JlvNWXxPzlZdg+X7QFHKqG3kdZ1Q1ApgWCPp6RmvSnyKOlWMbDvZiGtRqBil6IlWRgblWi4HMdsxjVw==',\n",
    "    endpoint='https://studioapi.azureml.net'\n",
    ")\n",
    "ds = ws.datasets['Regresión lineal Madres.csv']\n",
    "frame = ds.to_dataframe()"
   ]
  },
  {
   "cell_type": "code",
   "execution_count": null,
   "metadata": {},
   "outputs": [],
   "source": []
  }
 ],
 "metadata": {
  "kernelspec": {
   "display_name": "Python 3",
   "language": "python",
   "name": "python3"
  },
  "language_info": {
   "codemirror_mode": {
    "name": "ipython",
    "version": 3
   },
   "file_extension": ".py",
   "mimetype": "text/x-python",
   "name": "python",
   "nbconvert_exporter": "python",
   "pygments_lexer": "ipython3",
   "version": "3.6.6"
  }
 },
 "nbformat": 4,
 "nbformat_minor": 2
}
