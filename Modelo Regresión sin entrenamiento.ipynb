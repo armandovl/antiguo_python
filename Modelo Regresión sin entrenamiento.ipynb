{
 "cells": [
  {
   "cell_type": "markdown",
   "metadata": {},
   "source": [
    "   <img src=\"https://www.sccpre.cat/mypng/full/403-4035365_tec-logo-png-logo-tec-de-monterrey.png\"\n",
    "        width=\"100\"  style=\"float: left; margin-right: 10px;\" />\n",
    "   <div>\n",
    "     <h1>Regresión Lineal Simple Caso Práctico</h1>\n",
    "     <h4>Rezago Educativo y Pobreza<br>Armando Valdés López<br>Septiembre 2019</h4>\n",
    "   </div>"
   ]
  },
  {
   "cell_type": "code",
   "execution_count": null,
   "metadata": {
    "scrolled": false
   },
   "outputs": [],
   "source": [
    "%matplotlib inline \n",
    "import pandas as pd\n",
    "import numpy as np\n",
    "import matplotlib.pyplot as plt\n",
    "import seaborn as sns\n",
    "from sklearn.linear_model import LinearRegression\n",
    "from sklearn.metrics import mean_squared_error\n",
    "from math import sqrt"
   ]
  },
  {
   "cell_type": "code",
   "execution_count": null,
   "metadata": {
    "scrolled": true
   },
   "outputs": [],
   "source": [
    "Base_de_Datos= pd.read_excel('Pobreza_y_Rezago.xlsx')\n",
    "Datos=pd.DataFrame(Base_de_Datos)\n",
    "Datos=Datos.round(2)# le pongo solo dos decimales\n",
    "Datos.head(7)#imprime solo los primeros siete datos\n"
   ]
  },
  {
   "cell_type": "code",
   "execution_count": null,
   "metadata": {
    "scrolled": true
   },
   "outputs": [],
   "source": [
    "print(\"Descripción de los Datos\")\n",
    "print(\"Observaciones y Variables\",Datos.shape)\n",
    "summary = Datos.describe()\n",
    "print(\" \")\n",
    "print(\"Resumen de Datos Cuantitativos\")\n",
    "#print (summary) \n",
    "print (summary.round(2)) #le pongo solo dos decimales"
   ]
  },
  {
   "cell_type": "code",
   "execution_count": null,
   "metadata": {
    "scrolled": true
   },
   "outputs": [],
   "source": [
    "#definiendo \"x\" y \"y\"\n",
    "x1=np.array(Datos.por_per_re_ed)\n",
    "y1=np.array(Datos.por_per_po)"
   ]
  },
  {
   "cell_type": "markdown",
   "metadata": {},
   "source": [
    "### a.- Modelo de Regresión Lineal statsmodel"
   ]
  },
  {
   "cell_type": "code",
   "execution_count": null,
   "metadata": {
    "scrolled": true
   },
   "outputs": [],
   "source": [
    "from statsmodels.formula.api import ols\n",
    "model = ols(\"por_per_po ~ por_per_re_ed\", Datos).fit()\n",
    "print(model.summary())"
   ]
  },
  {
   "cell_type": "code",
   "execution_count": null,
   "metadata": {
    "scrolled": true
   },
   "outputs": [],
   "source": [
    "# intervalo de confianza primer intento\n",
    "from statsmodels.sandbox.regression.predstd import wls_prediction_std\n",
    "prstd, iv_l, iv_u = wls_prediction_std(model)"
   ]
  },
  {
   "cell_type": "code",
   "execution_count": null,
   "metadata": {
    "scrolled": false
   },
   "outputs": [],
   "source": [
    "from statsmodels.stats.outliers_influence import summary_table\n",
    "st, data, ss2 = summary_table(model, alpha=0.05)\n",
    "fittedvalues = data[:,2]\n",
    "predict_mean_se  = data[:,3]\n",
    "predict_mean_ci_low, predict_mean_ci_upp = data[:,4:6].T\n",
    "predict_ci_low, predict_ci_upp = data[:,6:8].T\n",
    "\n",
    "plt.figure(figsize=(17,10))\n",
    "plt.plot(x1,y1, 'o')\n",
    "plt.plot(x1, fittedvalues, '-', lw=2)\n",
    "plt.plot(x1, predict_ci_low, 'r--', lw=2)\n",
    "plt.plot(x1, predict_ci_upp, 'r--', lw=2)\n",
    "plt.plot(x1, predict_mean_ci_low, 'g--', lw=2)\n",
    "plt.plot(x1, predict_mean_ci_upp, 'g--', lw=2)\n",
    "plt.show()\n"
   ]
  },
  {
   "cell_type": "code",
   "execution_count": null,
   "metadata": {
    "scrolled": false
   },
   "outputs": [],
   "source": [
    "#otro intervalo de confianza\n",
    "ax=sns.regplot(x=Datos['por_per_re_ed'],y=Datos['por_per_po'],color='g',ci=95)"
   ]
  },
  {
   "cell_type": "code",
   "execution_count": null,
   "metadata": {
    "scrolled": false
   },
   "outputs": [],
   "source": [
    "import statsmodels.api as sm\n",
    "fig,ax=plt.subplots(figsize=(17,10))\n",
    "fig=sm.graphics.plot_fit(model,'por_per_re_ed',ax=ax)"
   ]
  },
  {
   "cell_type": "markdown",
   "metadata": {},
   "source": [
    "### a.- Modelo de Regresión Lineal scikitlearn"
   ]
  },
  {
   "cell_type": "code",
   "execution_count": null,
   "metadata": {
    "scrolled": true
   },
   "outputs": [],
   "source": [
    "x=np.array(Datos.por_per_re_ed).reshape((-1,1))\n",
    "y=np.array(Datos.por_per_po)"
   ]
  },
  {
   "cell_type": "code",
   "execution_count": null,
   "metadata": {
    "scrolled": false
   },
   "outputs": [],
   "source": [
    "model1=LinearRegression()\n",
    "model1.fit(x,y)\n",
    "R_sq1=model1.score(x,y)\n",
    "y_pred1=model1.predict(x)\n",
    "ecm1=mean_squared_error(y,y_pred1)\n",
    "rms1 = sqrt(mean_squared_error(y,y_pred1))"
   ]
  },
  {
   "cell_type": "code",
   "execution_count": null,
   "metadata": {
    "scrolled": true
   },
   "outputs": [],
   "source": [
    "print(\"Intercepto a\",model1.intercept_)\n",
    "print(\"Pendiente b\",model1.coef_)\n",
    "print(\"Coeficiente de determinación\",R_sq1)\n",
    "print(\"Error cuadrático medio\",ecm1)\n",
    "print(\"Raiz del error cuadrático medio\", rms1)\n",
    "print(\"y = \"+ str(model1.intercept_) + \" + \"+ str(model1.coef_) +\"*\"+\"x\" )"
   ]
  },
  {
   "cell_type": "code",
   "execution_count": null,
   "metadata": {
    "scrolled": true
   },
   "outputs": [],
   "source": [
    "#Predicciones\n",
    "x_nuevosDatos=np.array([10,11,12]).reshape((-1,1))\n",
    "y_predicciones=model1.predict(x_nuevosDatos)\n",
    "print(y_predicciones)"
   ]
  },
  {
   "cell_type": "markdown",
   "metadata": {},
   "source": [
    "### a.- Modelo de Regresión Lineal statsmodel"
   ]
  },
  {
   "cell_type": "code",
   "execution_count": null,
   "metadata": {
    "collapsed": true,
    "scrolled": true
   },
   "outputs": [],
   "source": []
  }
 ],
 "metadata": {
  "kernelspec": {
   "display_name": "Python 3",
   "language": "python",
   "name": "python3"
  },
  "language_info": {
   "codemirror_mode": {
    "name": "ipython",
    "version": 3
   },
   "file_extension": ".py",
   "mimetype": "text/x-python",
   "name": "python",
   "nbconvert_exporter": "python",
   "pygments_lexer": "ipython3",
   "version": "3.6.2"
  }
 },
 "nbformat": 4,
 "nbformat_minor": 2
}
