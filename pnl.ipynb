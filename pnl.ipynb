{
 "cells": [
  {
   "cell_type": "code",
   "execution_count": null,
   "metadata": {
    "collapsed": true
   },
   "outputs": [],
   "source": [
    "#Bibliografia\n",
    "#https://unipython.com/curso-de-procesamiento-de-textos-gensim/"
   ]
  },
  {
   "cell_type": "code",
   "execution_count": 2,
   "metadata": {
    "scrolled": true
   },
   "outputs": [
    {
     "name": "stdout",
     "output_type": "stream",
     "text": [
      "Collecting gensim\n",
      "  Downloading https://files.pythonhosted.org/packages/b3/8b/b31d8c6d74292f745aa06fdc02fb8e1e529736ab1de922e5402a50e0a042/gensim-3.8.3-cp36-cp36m-win_amd64.whl (24.2MB)\n",
      "Collecting six>=1.5.0 (from gensim)\n",
      "  Downloading https://files.pythonhosted.org/packages/ee/ff/48bde5c0f013094d729fe4b0316ba2a24774b3ff1c52d924a8a4cb04078a/six-1.15.0-py2.py3-none-any.whl\n",
      "Collecting Cython==0.29.14 (from gensim)\n",
      "  Downloading https://files.pythonhosted.org/packages/ca/5d/7344d00b55f060243cf4f04c2fcee8c245a0af2b0bc236fc6dbb5021dcd6/Cython-0.29.14-cp36-cp36m-win_amd64.whl (1.7MB)\n",
      "Collecting smart-open>=1.8.1 (from gensim)\n",
      "  Downloading https://files.pythonhosted.org/packages/74/77/744c79da6e66691e3500b6dffff29bdd787015eae817d594791edc7b719b/smart_open-2.0.0.tar.gz (103kB)\n",
      "Collecting numpy>=1.11.3 (from gensim)\n",
      "  Downloading https://files.pythonhosted.org/packages/dc/18/e69ef84530360c2d39db51acb4cc0012990f27fb1fa7542dac45ad30e7ab/numpy-1.18.5-cp36-cp36m-win_amd64.whl (12.7MB)\n",
      "Collecting scipy>=0.18.1 (from gensim)\n",
      "  Downloading https://files.pythonhosted.org/packages/8d/2f/fcb6150813b89d628749784370132e431f687ebab5a1063eb298cc941f76/scipy-1.4.1-cp36-cp36m-win_amd64.whl (30.8MB)\n",
      "Collecting requests (from smart-open>=1.8.1->gensim)\n",
      "  Downloading https://files.pythonhosted.org/packages/1a/70/1935c770cb3be6e3a8b78ced23d7e0f3b187f5cbfab4749523ed65d7c9b1/requests-2.23.0-py2.py3-none-any.whl (58kB)\n",
      "Collecting boto (from smart-open>=1.8.1->gensim)\n",
      "  Downloading https://files.pythonhosted.org/packages/23/10/c0b78c27298029e4454a472a1919bde20cb182dab1662cec7f2ca1dcc523/boto-2.49.0-py2.py3-none-any.whl (1.4MB)\n",
      "Collecting boto3 (from smart-open>=1.8.1->gensim)\n",
      "  Downloading https://files.pythonhosted.org/packages/6d/e3/bdd48e60b6ec83e77c4f5e300aff9999f0eac97f92b468cc69bd0871f096/boto3-1.13.25.tar.gz (97kB)\n",
      "Collecting certifi>=2017.4.17 (from requests->smart-open>=1.8.1->gensim)\n",
      "  Downloading https://files.pythonhosted.org/packages/98/99/def511020aa8f663d4a2cfaa38467539e864799289ff354569e339e375b1/certifi-2020.4.5.2-py2.py3-none-any.whl (157kB)\n",
      "Collecting urllib3!=1.25.0,!=1.25.1,<1.26,>=1.21.1 (from requests->smart-open>=1.8.1->gensim)\n",
      "  Downloading https://files.pythonhosted.org/packages/e1/e5/df302e8017440f111c11cc41a6b432838672f5a70aa29227bf58149dc72f/urllib3-1.25.9-py2.py3-none-any.whl (126kB)\n",
      "Collecting idna<3,>=2.5 (from requests->smart-open>=1.8.1->gensim)\n",
      "  Downloading https://files.pythonhosted.org/packages/89/e3/afebe61c546d18fb1709a61bee788254b40e736cff7271c7de5de2dc4128/idna-2.9-py2.py3-none-any.whl (58kB)\n",
      "Collecting chardet<4,>=3.0.2 (from requests->smart-open>=1.8.1->gensim)\n",
      "  Downloading https://files.pythonhosted.org/packages/bc/a9/01ffebfb562e4274b6487b4bb1ddec7ca55ec7510b22e4c51f14098443b8/chardet-3.0.4-py2.py3-none-any.whl (133kB)\n",
      "Collecting botocore<1.17.0,>=1.16.25 (from boto3->smart-open>=1.8.1->gensim)\n",
      "  Downloading https://files.pythonhosted.org/packages/38/ea/7e41f120d364b3e8f854336c900bd80abd74e6d72b2280e195e3195027a4/botocore-1.16.25-py2.py3-none-any.whl (6.2MB)\n",
      "Collecting jmespath<1.0.0,>=0.7.1 (from boto3->smart-open>=1.8.1->gensim)\n",
      "  Downloading https://files.pythonhosted.org/packages/07/cb/5f001272b6faeb23c1c9e0acc04d48eaaf5c862c17709d20e3469c6e0139/jmespath-0.10.0-py2.py3-none-any.whl\n",
      "Collecting s3transfer<0.4.0,>=0.3.0 (from boto3->smart-open>=1.8.1->gensim)\n",
      "  Downloading https://files.pythonhosted.org/packages/69/79/e6afb3d8b0b4e96cefbdc690f741d7dd24547ff1f94240c997a26fa908d3/s3transfer-0.3.3-py2.py3-none-any.whl (69kB)\n",
      "Collecting python-dateutil<3.0.0,>=2.1 (from botocore<1.17.0,>=1.16.25->boto3->smart-open>=1.8.1->gensim)\n",
      "  Downloading https://files.pythonhosted.org/packages/d4/70/d60450c3dd48ef87586924207ae8907090de0b306af2bce5d134d78615cb/python_dateutil-2.8.1-py2.py3-none-any.whl (227kB)\n",
      "Collecting docutils<0.16,>=0.10 (from botocore<1.17.0,>=1.16.25->boto3->smart-open>=1.8.1->gensim)\n",
      "  Downloading https://files.pythonhosted.org/packages/22/cd/a6aa959dca619918ccb55023b4cb151949c64d4d5d55b3f4ffd7eee0c6e8/docutils-0.15.2-py3-none-any.whl (547kB)\n",
      "Building wheels for collected packages: smart-open, boto3\n",
      "  Running setup.py bdist_wheel for smart-open: started\n",
      "  Running setup.py bdist_wheel for smart-open: finished with status 'done'\n",
      "  Stored in directory: C:\\Users\\Armando\\AppData\\Local\\pip\\Cache\\wheels\\27\\65\\38\\8d7f5fe8d7afb4e4566587b2d1933cec185fba19257836c943\n",
      "  Running setup.py bdist_wheel for boto3: started\n",
      "  Running setup.py bdist_wheel for boto3: finished with status 'done'\n",
      "  Stored in directory: C:\\Users\\Armando\\AppData\\Local\\pip\\Cache\\wheels\\dc\\be\\26\\b8eb33efc648c5a8bc96c8e2fca8a2ff5327fc00289c3ff9ef\n",
      "Successfully built smart-open boto3\n",
      "Installing collected packages: six, Cython, certifi, urllib3, idna, chardet, requests, boto, python-dateutil, docutils, jmespath, botocore, s3transfer, boto3, smart-open, numpy, scipy, gensim\n",
      "  Found existing installation: six 1.10.0\n",
      "    Uninstalling six-1.10.0:\n",
      "      Successfully uninstalled six-1.10.0\n",
      "  Found existing installation: Cython 0.25.2\n",
      "    Uninstalling Cython-0.25.2:\n",
      "      Successfully uninstalled Cython-0.25.2\n",
      "  Found existing installation: idna 2.2\n",
      "    Uninstalling idna-2.2:\n",
      "      Successfully uninstalled idna-2.2\n",
      "  Found existing installation: chardet 2.3.0\n",
      "    Uninstalling chardet-2.3.0:\n",
      "      Successfully uninstalled chardet-2.3.0\n",
      "  Found existing installation: requests 2.12.4\n",
      "    Uninstalling requests-2.12.4:\n",
      "      Successfully uninstalled requests-2.12.4\n",
      "  Found existing installation: boto 2.45.0\n",
      "    Uninstalling boto-2.45.0:\n",
      "      Successfully uninstalled boto-2.45.0\n",
      "  Found existing installation: python-dateutil 2.6.0\n",
      "    Uninstalling python-dateutil-2.6.0:\n",
      "      Successfully uninstalled python-dateutil-2.6.0\n",
      "  Found existing installation: docutils 0.13.1\n",
      "    Uninstalling docutils-0.13.1:\n",
      "      Successfully uninstalled docutils-0.13.1\n",
      "  Found existing installation: numpy 1.13.1\n",
      "    Uninstalling numpy-1.13.1:\n",
      "      Successfully uninstalled numpy-1.13.1\n",
      "  Found existing installation: scipy 0.19.1\n",
      "    Uninstalling scipy-0.19.1:\n",
      "      Successfully uninstalled scipy-0.19.1\n",
      "Successfully installed Cython-0.29.14 boto-2.49.0 boto3-1.13.25 botocore-1.16.25 certifi-2020.4.5.2 chardet-3.0.4 docutils-0.15.2 gensim-3.8.3 idna-2.9 jmespath-0.10.0 numpy-1.18.5 python-dateutil-2.8.1 requests-2.23.0 s3transfer-0.3.3 scipy-1.4.1 six-1.15.0 smart-open-2.0.0 urllib3-1.25.9\n"
     ]
    },
    {
     "name": "stderr",
     "output_type": "stream",
     "text": [
      "    DEPRECATION: Uninstalling a distutils installed project (six) has been deprecated and will be removed in a future version. This is due to the fact that uninstalling a distutils project will only partially uninstall the project.\n",
      "    DEPRECATION: Uninstalling a distutils installed project (boto) has been deprecated and will be removed in a future version. This is due to the fact that uninstalling a distutils project will only partially uninstall the project.\n",
      "    DEPRECATION: Uninstalling a distutils installed project (docutils) has been deprecated and will be removed in a future version. This is due to the fact that uninstalling a distutils project will only partially uninstall the project.\n",
      "You are using pip version 9.0.1, however version 20.1.1 is available.\n",
      "You should consider upgrading via the 'python -m pip install --upgrade pip' command.\n"
     ]
    }
   ],
   "source": [
    "#!pip install --upgrade gensim #tuve que instalar la libreria"
   ]
  },
  {
   "cell_type": "code",
   "execution_count": 4,
   "metadata": {
    "collapsed": true
   },
   "outputs": [],
   "source": [
    "from gensim.models import Word2Vec"
   ]
  },
  {
   "cell_type": "code",
   "execution_count": 5,
   "metadata": {
    "collapsed": true
   },
   "outputs": [],
   "source": [
    "from gensim.models.keyedvectors import KeyedVectors"
   ]
  },
  {
   "cell_type": "code",
   "execution_count": 6,
   "metadata": {
    "collapsed": true
   },
   "outputs": [],
   "source": [
    "modelo = KeyedVectors.load_word2vec_format(\"./sbw_vectors.bin\", binary=True)"
   ]
  },
  {
   "cell_type": "markdown",
   "metadata": {},
   "source": [
    "Te muestra la palabra correspondiente al vector más cercano a la suma del vector “ron” más el vector “cola”. Del mismo modo podemos encontrar la palabra más cercana al resultado de gato-maullar+ladrar:"
   ]
  },
  {
   "cell_type": "code",
   "execution_count": 7,
   "metadata": {},
   "outputs": [
    {
     "data": {
      "text/plain": [
       "[('cubalibre', 0.6797232031822205)]"
      ]
     },
     "execution_count": 7,
     "metadata": {},
     "output_type": "execute_result"
    }
   ],
   "source": [
    "modelo.most_similar(positive=[\"ron\",\"cola\"],topn=1)"
   ]
  },
  {
   "cell_type": "markdown",
   "metadata": {},
   "source": [
    "Y podemos encontrar qué palabra se parece menos de una lista:"
   ]
  },
  {
   "cell_type": "code",
   "execution_count": 36,
   "metadata": {},
   "outputs": [
    {
     "name": "stderr",
     "output_type": "stream",
     "text": [
      "C:\\Users\\Armando\\Anaconda3\\lib\\site-packages\\gensim\\models\\keyedvectors.py:877: FutureWarning: arrays to stack must be passed as a \"sequence\" type such as list or tuple. Support for non-sequence iterables such as generators is deprecated as of NumPy 1.16 and will raise an error in the future.\n",
      "  vectors = vstack(self.word_vec(word, use_norm=True) for word in used_words).astype(REAL)\n"
     ]
    },
    {
     "data": {
      "text/plain": [
       "'coche'"
      ]
     },
     "execution_count": 36,
     "metadata": {},
     "output_type": "execute_result"
    }
   ],
   "source": [
    "palabras=[\"perro\",\"coche\",\"gato\",\"zorro\",\"caballo\"]\n",
    "modelo.doesnt_match(palabras)"
   ]
  },
  {
   "cell_type": "code",
   "execution_count": 42,
   "metadata": {},
   "outputs": [
    {
     "name": "stdout",
     "output_type": "stream",
     "text": [
      "China\n"
     ]
    },
    {
     "name": "stderr",
     "output_type": "stream",
     "text": [
      "C:\\Users\\Armando\\Anaconda3\\lib\\site-packages\\gensim\\models\\keyedvectors.py:877: FutureWarning: arrays to stack must be passed as a \"sequence\" type such as list or tuple. Support for non-sequence iterables such as generators is deprecated as of NumPy 1.16 and will raise an error in the future.\n",
      "  vectors = vstack(self.word_vec(word, use_norm=True) for word in used_words).astype(REAL)\n"
     ]
    }
   ],
   "source": [
    "print(modelo.doesnt_match([\"Colombia\",\"Ecuador\",\"China\",\"Venezuela\"]))"
   ]
  },
  {
   "cell_type": "markdown",
   "metadata": {},
   "source": [
    "Aparte de esas operaciones, puedes probar algunos otros ejemplos, como el clásico:"
   ]
  },
  {
   "cell_type": "code",
   "execution_count": 33,
   "metadata": {},
   "outputs": [
    {
     "data": {
      "text/plain": [
       "[('reina', 0.7493030428886414)]"
      ]
     },
     "execution_count": 33,
     "metadata": {},
     "output_type": "execute_result"
    }
   ],
   "source": [
    "modelo.most_similar(positive=[\"rey\",\"mujer\"],negative=[\"hombre\"],topn=1)"
   ]
  },
  {
   "cell_type": "markdown",
   "metadata": {},
   "source": [
    "Buscar un Sinónimo"
   ]
  },
  {
   "cell_type": "code",
   "execution_count": 38,
   "metadata": {},
   "outputs": [
    {
     "data": {
      "text/plain": [
       "[('granja', 0.6619080305099487),\n",
       " ('pastor', 0.6282102465629578),\n",
       " ('granjeros', 0.61934494972229),\n",
       " ('trampero', 0.6180711388587952),\n",
       " ('agricultor', 0.6167852282524109),\n",
       " ('Blomefield', 0.6157280802726746),\n",
       " ('Gwenda', 0.6151532530784607),\n",
       " ('Marondera', 0.6090083122253418),\n",
       " ('Culann', 0.60781329870224),\n",
       " ('Cralle', 0.604280412197113)]"
      ]
     },
     "execution_count": 38,
     "metadata": {},
     "output_type": "execute_result"
    }
   ],
   "source": [
    "modelo.most_similar(\"granjero\")"
   ]
  },
  {
   "cell_type": "markdown",
   "metadata": {},
   "source": [
    "obtener el grado de semejanza entre dos palabras:"
   ]
  },
  {
   "cell_type": "code",
   "execution_count": 39,
   "metadata": {},
   "outputs": [
    {
     "data": {
      "text/plain": [
       "0.7174485"
      ]
     },
     "execution_count": 39,
     "metadata": {},
     "output_type": "execute_result"
    }
   ],
   "source": [
    "modelo.similarity(\"hombre\",\"mujer\")"
   ]
  },
  {
   "cell_type": "markdown",
   "metadata": {},
   "source": [
    "Si quieres obtener el vector correspondiente a una palabra:"
   ]
  },
  {
   "cell_type": "code",
   "execution_count": 43,
   "metadata": {
    "collapsed": true
   },
   "outputs": [],
   "source": [
    "gato_vector=modelo.word_vec(\"gato\")\n",
    "\n",
    "maullar_vector=modelo.word_vec(\"maullar\")\n",
    "\n",
    "ladrar_vector=modelo.word_vec(\"ladrar\")\n"
   ]
  },
  {
   "cell_type": "markdown",
   "metadata": {},
   "source": [
    "De modo que, una forma alternativa de resolver la operación “gato-maullar+ladrar” sería:"
   ]
  },
  {
   "cell_type": "code",
   "execution_count": 46,
   "metadata": {},
   "outputs": [
    {
     "data": {
      "text/plain": [
       "[('ladrar', 0.8310680389404297),\n",
       " ('gato', 0.80445796251297),\n",
       " ('perro', 0.7121046781539917),\n",
       " ('perros', 0.623246967792511),\n",
       " ('zorro', 0.6150989532470703),\n",
       " ('ladrido', 0.6039999723434448),\n",
       " ('gatos', 0.5864946842193604),\n",
       " ('maúlla', 0.5764097571372986),\n",
       " ('montés', 0.5755391716957092),\n",
       " ('hurón', 0.5747962594032288)]"
      ]
     },
     "execution_count": 46,
     "metadata": {},
     "output_type": "execute_result"
    }
   ],
   "source": [
    "modelo.similar_by_vector(gato_vector-maullar_vector+ladrar_vector)"
   ]
  },
  {
   "cell_type": "code",
   "execution_count": 45,
   "metadata": {},
   "outputs": [
    {
     "data": {
      "text/plain": [
       "[('perro', 0.6373056173324585)]"
      ]
     },
     "execution_count": 45,
     "metadata": {},
     "output_type": "execute_result"
    }
   ],
   "source": [
    "modelo.most_similar(positive=[\"gato\",\"ladrar\"],negative=[\"maullar\"],topn=1)"
   ]
  },
  {
   "cell_type": "markdown",
   "metadata": {},
   "source": [
    "Por último, un par de comentarios sobre el modelo SBWCE:\n",
    "\n",
    "Parece haber sido entrenado teniendo con palabras acentuadas, así como mayúsculas y minúsculas. De modo que la palabra “Lápiz” dará distintos resultados que “lápiz” o “lapiz”.\n",
    "Si estás usando Python 2, puede que tengas problemas al usar palabras con tilde, por ejemplo:"
   ]
  },
  {
   "cell_type": "code",
   "execution_count": 48,
   "metadata": {},
   "outputs": [
    {
     "data": {
      "text/plain": [
       "[('bolígrafo', 0.7448678612709045),\n",
       " ('pincel', 0.7313501834869385),\n",
       " ('crayón', 0.7308675646781921),\n",
       " ('lápices', 0.7281906604766846),\n",
       " ('carboncillo', 0.7155462503433228),\n",
       " ('rotulador', 0.7153562307357788),\n",
       " ('estilógrafo', 0.7055243253707886),\n",
       " ('lapicero', 0.7034063339233398),\n",
       " ('plumilla', 0.6892597079277039),\n",
       " ('entintar', 0.6882398724555969)]"
      ]
     },
     "execution_count": 48,
     "metadata": {},
     "output_type": "execute_result"
    }
   ],
   "source": [
    "modelo.most_similar(\"lápiz\")"
   ]
  },
  {
   "cell_type": "code",
   "execution_count": 49,
   "metadata": {},
   "outputs": [
    {
     "data": {
      "text/plain": [
       "[('contornee', 0.7759906649589539),\n",
       " ('borroneado', 0.7684885263442993),\n",
       " ('rizador', 0.7603975534439087),\n",
       " ('estilógrafo', 0.7498780488967896),\n",
       " ('difumino', 0.7460038065910339),\n",
       " ('gouche', 0.7427493333816528),\n",
       " ('eyeliner', 0.7397847771644592),\n",
       " ('birome', 0.7378357648849487),\n",
       " ('Contornee', 0.7318902611732483),\n",
       " ('ruleros', 0.7317335605621338)]"
      ]
     },
     "execution_count": 49,
     "metadata": {},
     "output_type": "execute_result"
    }
   ],
   "source": [
    "modelo.most_similar(\"lapiz\")"
   ]
  },
  {
   "cell_type": "code",
   "execution_count": 83,
   "metadata": {},
   "outputs": [
    {
     "name": "stdout",
     "output_type": "stream",
     "text": [
      "[-0.1167961   0.14855266 -0.02306766  0.33350793  0.07680331  0.15218842\n",
      " -0.25780448  0.29820657  0.01361906  0.18128258  0.05431674  0.01496018\n",
      "  0.10211679 -0.588864    0.04891421 -0.23186952  0.11977372  0.20348847\n",
      " -0.05473102  0.15693393 -0.19556426  0.00113607 -0.03361124  0.138281\n",
      "  0.05227958  0.21984103  0.04653235  0.17662181  0.29078287 -0.01581275\n",
      "  0.39221647 -0.04519518  0.25148714  0.28255054  0.09881563 -0.24058168\n",
      " -0.0604603   0.05152753 -0.161154   -0.17175344  0.24296434  0.13818789\n",
      "  0.10730977 -0.12790844  0.03082096 -0.23310429  0.04874342  0.03887862\n",
      "  0.01384178 -0.16715574 -0.00372468 -0.08551936  0.37598637  0.32791692\n",
      " -0.12392151 -0.03287379 -0.17583844 -0.08253603  0.12736066  0.25980896\n",
      " -0.19903798  0.00845056 -0.05868404 -0.28797048 -0.33093628  0.36301246\n",
      " -0.15757723  0.19281414 -0.20413585  0.16580905  0.07865175 -0.30907673\n",
      " -0.11949452  0.2957564  -0.16498165  0.44878665 -0.11532086  0.13569199\n",
      "  0.11554101 -0.16821127  0.03543042 -0.15977517 -0.01502274  0.4427257\n",
      "  0.09223595 -0.17488408  0.16150557 -0.08925536 -0.09874142  0.24243218\n",
      "  0.07085579  0.18823296  0.34089813  0.15530585  0.23218592  0.01163354\n",
      "  0.17261045 -0.27765653 -0.21508582 -0.1014008  -0.24286057 -0.1657706\n",
      "  0.07507259 -0.09404631  0.09597941  0.19375621 -0.48014784 -0.10368544\n",
      " -0.14087467  0.4542213   0.14389344 -0.13975638  0.32909754 -0.11231717\n",
      "  0.03476965  0.08879667  0.41511697  0.16984633 -0.18289839 -0.63721216\n",
      " -0.1652602   0.41787967 -0.20827314  0.00240758 -0.3680993   0.2946454\n",
      "  0.0263211  -0.21989697  0.25669733 -0.1824904  -0.05580771 -0.02609298\n",
      " -0.27057248 -0.07260148 -0.34542754  0.0092667   0.07846225  0.00584854\n",
      "  0.19708917 -0.06820054 -0.31675565  0.12587696  0.48278227  0.10204858\n",
      " -0.25378063 -0.09973609  0.07796228  0.15979025  0.3633654  -0.00975548\n",
      " -0.18236077 -0.05439216  0.21468693  0.05953185  0.06281468 -0.01377559\n",
      "  0.08185411 -0.05778435 -0.2955173  -0.21883583 -0.03327228 -0.01481686\n",
      "  0.11295137 -0.15974294 -0.2513252  -0.05845039 -0.38914895 -0.13974552\n",
      "  0.09653983 -0.151241   -0.09338666 -0.07369711  0.04745422  0.3264683\n",
      "  0.22730178 -0.27457792 -0.34127262 -0.30300158  0.02830397 -0.18802659\n",
      " -0.02297388  0.34355342 -0.08048883 -0.09885059  0.00726511  0.17565797\n",
      " -0.20929411  0.13290763  0.21645343  0.08574941 -0.32503456  0.21064173\n",
      " -0.13970304 -0.21884577 -0.16715157  0.3106124  -0.05035675 -0.09927518\n",
      " -0.10141465 -0.03287211 -0.2814141   0.3277595   0.0859551   0.3045565\n",
      "  0.2926038   0.07529181 -0.6669623   0.02220193 -0.10208406  0.07109223\n",
      " -0.21662927 -0.14387238 -0.39603987 -0.2405772   0.00015973  0.13937576\n",
      " -0.05673964  0.250038   -0.43633163 -0.42181432  0.21978065  0.2662281\n",
      " -0.01706242 -0.2584076  -0.02759431 -0.17329575  0.13632776 -0.07222263\n",
      " -0.33365571 -0.15042196  0.21117117 -0.16740759  0.45928687  0.08711753\n",
      " -0.47299713 -0.07197659  0.00320213 -0.26685384 -0.30487576 -0.02261517\n",
      "  0.38949946  0.09829526  0.2671252  -0.263636   -0.0262268  -0.20551535\n",
      " -0.32144392 -0.09009185  0.07683592 -0.4835157   0.34698847  0.02301891\n",
      "  0.18643372 -0.08168596 -0.36984563 -0.48758137  0.06064828  0.02796301\n",
      " -0.29767397 -0.08474318  0.3093468   0.22008052 -0.02232875  0.3596607\n",
      " -0.12342729  0.0961547  -0.06216142  0.29293004  0.37732536  0.07130437\n",
      " -0.26093668  0.04612304 -0.01993083  0.17807077 -0.0085354   0.08152264\n",
      " -0.01186783  0.07012647  0.34494105  0.02702328 -0.1416583   0.18576768\n",
      " -0.22554615  0.23957716 -0.05204439 -0.16225626  0.09992284  0.36625016\n",
      "  0.05828505 -0.14498807 -0.18438183  0.04696167 -0.1423691  -0.05330405\n",
      " -0.07969688 -0.46201217  0.08367839 -0.51290053  0.17589013  0.14002606]\n"
     ]
    }
   ],
   "source": [
    "print(modelo['computadora'])"
   ]
  },
  {
   "cell_type": "markdown",
   "metadata": {},
   "source": [
    "con una sola palabra"
   ]
  },
  {
   "cell_type": "code",
   "execution_count": 56,
   "metadata": {
    "collapsed": true
   },
   "outputs": [],
   "source": [
    "import numpy as np\n",
    "import matplotlib.pyplot as plt\n",
    " \n",
    "from sklearn.manifold import TSNE"
   ]
  },
  {
   "cell_type": "code",
   "execution_count": 75,
   "metadata": {
    "collapsed": true
   },
   "outputs": [],
   "source": [
    "def display_closestwords_tsnescatterplot(modelo, word):\n",
    "    \n",
    "    arr = np.empty((0,300), dtype='f')\n",
    "    word_labels = [word]\n",
    "\n",
    "    # get close words\n",
    "    close_words = modelo.similar_by_word(word)\n",
    "    \n",
    "\n",
    "    # add the vector for each of the closest words to the array\n",
    "    arr = np.append(arr, np.array([modelo[word]]), axis=0)\n",
    "    for wrd_score in close_words:\n",
    "        wrd_vector = modelo[wrd_score[0]]\n",
    "        word_labels.append(wrd_score[0])\n",
    "        arr = np.append(arr, np.array([wrd_vector]), axis=0)\n",
    "        \n",
    "    # find tsne coords for 2 dimensions\n",
    "    tsne = TSNE(n_components=2, random_state=0)\n",
    "    np.set_printoptions(suppress=True)\n",
    "    Y = tsne.fit_transform(arr)\n",
    "\n",
    "    x_coords = Y[:, 0]\n",
    "    y_coords = Y[:, 1]\n",
    "    # display scatter plot\n",
    "    plt.scatter(x_coords, y_coords)\n",
    "\n",
    "    for label, x, y in zip(word_labels, x_coords, y_coords):\n",
    "        plt.annotate(label, xy=(x, y), xytext=(0, 0), textcoords='offset points')\n",
    "    plt.xlim(x_coords.min()+0.00005, x_coords.max()+0.00005)\n",
    "    plt.ylim(y_coords.min()+0.00005, y_coords.max()+0.00005)\n",
    "    plt.show()"
   ]
  },
  {
   "cell_type": "code",
   "execution_count": 76,
   "metadata": {
    "scrolled": true
   },
   "outputs": [
    {
     "data": {
      "image/png": "[encoded data removed]",
      "text/plain": [
       "<Figure size 432x288 with 1 Axes>"
      ]
     },
     "metadata": {},
     "output_type": "display_data"
    }
   ],
   "source": [
    "display_closestwords_tsnescatterplot(modelo,'alimentos')"
   ]
  },
  {
   "cell_type": "code",
   "execution_count": 90,
   "metadata": {
    "collapsed": true
   },
   "outputs": [],
   "source": [
    "from sklearn.decomposition import PCA #Grab PCA functions"
   ]
  },
  {
   "cell_type": "code",
   "execution_count": 163,
   "metadata": {},
   "outputs": [
    {
     "name": "stdout",
     "output_type": "stream",
     "text": [
      "[[ 0.16856     0.11906052 -0.02751338 ...  0.29533735  0.21079825\n",
      "   0.05968495]\n",
      " [ 0.08520026 -0.03410327 -0.16523191 ...  0.03365397  0.10491783\n",
      "   0.21899226]\n",
      " [ 0.09852193  0.2907289  -0.12885109 ...  0.05276096  0.5136821\n",
      "  -0.0290894 ]\n",
      " ...\n",
      " [ 0.01627187  0.07527017 -0.05590526 ... -0.43227488 -0.09132934\n",
      "   0.40572512]\n",
      " [-0.12078531 -0.19789737 -0.27196273 ... -0.18663022 -0.20842281\n",
      "   0.17777221]\n",
      " [ 0.01049928 -0.0782245  -0.2585719  ... -0.15084435 -0.0348958\n",
      "   0.28121254]]\n"
     ]
    }
   ],
   "source": [
    "listado=[\"manzana\",\"pera\",\"fresa\",\"mandarina\",\"auto\",\"cabra\",\"perico\",\"coche\",\"automovil\"]\n",
    "pala=modelo[listado]\n",
    "print(pala)"
   ]
  },
  {
   "cell_type": "code",
   "execution_count": 164,
   "metadata": {},
   "outputs": [],
   "source": [
    "# fit a 2d PCA model to the vectors\n",
    "X = pala\n",
    "pca = PCA(n_components=2)\n",
    "result = pca.fit_transform(X)"
   ]
  },
  {
   "cell_type": "code",
   "execution_count": 165,
   "metadata": {},
   "outputs": [
    {
     "data": {
      "text/plain": [
       "array([[-0.97463036, -0.9563973 ],\n",
       "       [-1.6997247 , -0.6616557 ],\n",
       "       [-1.587108  , -0.7527106 ],\n",
       "       [-1.755997  , -0.98148775],\n",
       "       [ 2.492784  , -0.2963051 ],\n",
       "       [-0.98894715,  0.6697058 ],\n",
       "       [-0.37479183,  3.8510637 ],\n",
       "       [ 2.4464664 , -0.1569927 ],\n",
       "       [ 2.4419498 , -0.71522045]], dtype=float32)"
      ]
     },
     "execution_count": 165,
     "metadata": {},
     "output_type": "execute_result"
    }
   ],
   "source": [
    "result"
   ]
  },
  {
   "cell_type": "code",
   "execution_count": 173,
   "metadata": {},
   "outputs": [
    {
     "data": {
      "image/png": "[encoded data removed]",
      "text/plain": [
       "<Figure size 576x504 with 1 Axes>"
      ]
     },
     "metadata": {},
     "output_type": "display_data"
    }
   ],
   "source": [
    "\n",
    "# create a plot of the projection\n",
    "fig, ax = plt.subplots()\n",
    "fig.set_size_inches(8, 7)\n",
    "ax.plot(result[:, 0], result[:, 1], 'x')\n",
    "ax.set_title('Encabezado'),\n",
    "\n",
    "words = list(listado)\n",
    "for i, word in enumerate(words):\n",
    "    plt.annotate(word, xy=(result[i, 0],result[i, 1]))\n",
    "\n",
    "\n",
    "plt.show()"
   ]
  },
  {
   "cell_type": "markdown",
   "metadata": {},
   "source": [
    "XXXXXXXXXXXXXXXXXXXXXXXXXXXXXXXXXXXXXXXXXXXXXXXXXXXXXXXXXXXXXXXXXXXXXXXXXXXXXXXXXXXXXXXXXXXXXXXXXXXXXx"
   ]
  },
  {
   "cell_type": "code",
   "execution_count": 13,
   "metadata": {},
   "outputs": [
    {
     "name": "stdout",
     "output_type": "stream",
     "text": [
      "RAZONAMIENTO ANALÓGICO\n",
      "¿Cómo se le dice a una mujer que es rey?\n",
      "[('reina', 0.7493030428886414), ('consorte', 0.7034263610839844), ('princesa', 0.6861541867256165), ('Olofsdotter', 0.6481985449790955), ('reyes', 0.6391464471817017), ('Eriksdotter', 0.6360353231430054), ('regente', 0.6339377164840698), ('Gunhilda', 0.6317264437675476), ('Rasoherina', 0.6298272013664246), ('Danmartín', 0.6269059777259827)]\n"
     ]
    }
   ],
   "source": [
    "print('RAZONAMIENTO ANALÓGICO')\n",
    "print('¿Cómo se le dice a una mujer que es rey?')\n",
    "print(modelo.most_similar(positive=[\"mujer\",\"rey\"],negative=[\"hombre\"]))"
   ]
  },
  {
   "cell_type": "code",
   "execution_count": 11,
   "metadata": {},
   "outputs": [
    {
     "name": "stdout",
     "output_type": "stream",
     "text": [
      "[('reina', 0.7493030428886414), ('consorte', 0.7034263610839844), ('princesa', 0.6861541867256165), ('Olofsdotter', 0.6481985449790955), ('reyes', 0.6391464471817017), ('Eriksdotter', 0.6360353231430054), ('regente', 0.6339377164840698), ('Gunhilda', 0.6317264437675476), ('Rasoherina', 0.6298272013664246), ('Danmartín', 0.6269059777259827)]\n"
     ]
    }
   ],
   "source": [
    "print(modelo.most_similar(positive=[\"mujer\",\"rey\"],negative=[\"hombre\"]))"
   ]
  },
  {
   "cell_type": "code",
   "execution_count": 14,
   "metadata": {},
   "outputs": [
    {
     "data": {
      "text/plain": [
       "[('perro', 0.6373056173324585)]"
      ]
     },
     "execution_count": 14,
     "metadata": {},
     "output_type": "execute_result"
    }
   ],
   "source": [
    "modelo.most_similar(positive=[\"gato\",\"ladrar\"],negative=[\"maullar\"],topn=1)"
   ]
  },
  {
   "cell_type": "code",
   "execution_count": 17,
   "metadata": {},
   "outputs": [
    {
     "name": "stdout",
     "output_type": "stream",
     "text": [
      "RAZONAMIENTO COMPOSICIONAL\n",
      "¿Qué usas con una chaqueta en Argentina?\n",
      "[('corbata', 0.6549950242042542), ('camisa', 0.6472713947296143), ('descotada', 0.6375879645347595), ('blusa', 0.6306939721107483), ('abotonada', 0.6287420392036438), ('esmóquin', 0.6270449757575989), ('poncho', 0.6226142644882202), ('gabardina', 0.6225605010986328), ('parpusa', 0.6215286254882812), ('polera', 0.6205595135688782)]\n",
      "¿Qué es lo más parecido en Bogotá a un metro?\n",
      "[('Masmo', 0.7711561322212219), ('Ploshcha', 0.7675820589065552), ('Beekkant', 0.7511922717094421), ('viajeron', 0.7508050203323364), ('términi', 0.7473353743553162), ('Colarse', 0.7467913031578064), ('Bellvedere', 0.7427597045898438), ('discurria', 0.7397221922874451), ('Transversala', 0.7391642332077026), ('Krasnosélskaya', 0.7389208078384399)]\n"
     ]
    }
   ],
   "source": [
    "print('RAZONAMIENTO COMPOSICIONAL')\n",
    "print(\"¿Qué usas con una chaqueta en Argentina?\")\n",
    "print(modelo.most_similar(positive=[\"chaqueta\",\"argentina\"]))\n",
    "print(\"¿Qué es lo más parecido en Bogotá a un metro?\")\n",
    "print(modelo.most_similar(positive=[\"bogotá\",\"metro\"]))"
   ]
  },
  {
   "cell_type": "code",
   "execution_count": 19,
   "metadata": {},
   "outputs": [
    {
     "name": "stdout",
     "output_type": "stream",
     "text": [
      "saborear\n",
      "[('degustara', 0.7071782350540161), ('saboreará', 0.7027115225791931), ('picosito', 0.7024193406105042), ('paladear', 0.7016551494598389), ('degustándose', 0.6999034285545349), ('cebadina', 0.6933169960975647), ('degustador', 0.6904380321502686), ('saborearse', 0.6898754835128784), ('Chelada', 0.6898494958877563), ('chamoyadas', 0.6895954608917236)]\n"
     ]
    }
   ],
   "source": [
    "print(\"saborear\")\n",
    "print(modelo.most_similar(positive=[\"sabor\",\"sabe\",\"saborear\"]))"
   ]
  },
  {
   "cell_type": "code",
   "execution_count": 24,
   "metadata": {},
   "outputs": [
    {
     "name": "stdout",
     "output_type": "stream",
     "text": [
      "¿Colombia se parece más a Ecuador o a Corea?\n",
      "0.79119897\n",
      "0.41635123\n"
     ]
    }
   ],
   "source": [
    "#EVALUACION DE LA SIMILITUD\n",
    "print(\"¿Colombia se parece más a Ecuador o a Corea?\")\n",
    "print(modelo.similarity(\"Colombia\",\"Ecuador\"))\n",
    "#print(\"Colombia vs. Ecuador 0.83329847705\")\n",
    "print(modelo.similarity(\"Colombia\",\"Corea\"))\n",
    "#print(\"Colombia vs. Corea 0.559571022858\")"
   ]
  },
  {
   "cell_type": "code",
   "execution_count": null,
   "metadata": {
    "collapsed": true
   },
   "outputs": [],
   "source": []
  }
 ],
 "metadata": {
  "kernelspec": {
   "display_name": "Python 3",
   "language": "python",
   "name": "python3"
  },
  "language_info": {
   "codemirror_mode": {
    "name": "ipython",
    "version": 3
   },
   "file_extension": ".py",
   "mimetype": "text/x-python",
   "name": "python",
   "nbconvert_exporter": "python",
   "pygments_lexer": "ipython3",
   "version": "3.7.6"
  }
 },
 "nbformat": 4,
 "nbformat_minor": 2
}
