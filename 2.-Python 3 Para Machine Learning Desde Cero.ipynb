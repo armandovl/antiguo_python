{
 "cells": [
  {
   "cell_type": "markdown",
   "metadata": {},
   "source": [
    "# Datos"
   ]
  },
  {
   "cell_type": "code",
   "execution_count": null,
   "metadata": {},
   "outputs": [],
   "source": [
    "#hola este es un comentario de una sola línea\n",
    "\n",
    "'''Este es un\n",
    "comentario de\n",
    "varias líneas'''\n",
    "\n",
    "print (\"hola amigos bienvenidos\")\n",
    "\n",
    "print('hola amigos'+'bienvenidos') #para concatenar\n",
    "print('hola amigos','bienvenidos') #para concatenar con espacio\n",
    "print('hola amigos','\\nbienvenidos') #para salto de línea alt-92\n"
   ]
  },
  {
   "cell_type": "markdown",
   "metadata": {},
   "source": [
    "### Variables"
   ]
  },
  {
   "cell_type": "code",
   "execution_count": null,
   "metadata": {
    "collapsed": true
   },
   "outputs": [],
   "source": [
    "#variables empiezan con minúscula nunca con números y siempre sin espacios\n",
    "\n",
    "nombre_variable='valor' #ésto es un string\n",
    "nombre_variable1=50 #ésto es un integer\n",
    "nombre_variable2=25.4 #ésto es un float\n",
    "nombre_variable3= False  #ésto es un boolean, mayúscula\n",
    "nombre_variable4= [34,'armando',True,'M','34',34.5] #ésta es una lista\n",
    "nombre_variable4= (34,'armando',True,'M','34',34.5) #ésta es una tupla\n",
    "nombre_variable5= {'Hermano1':'Armando',\n",
    "                   'Hermano2':'Ramon',\n",
    "                   'Hermano3':'Sayra'    \n",
    "                  } #ésto es un diccionario\n",
    "\n",
    "print(nombre_variable2+nombre_variable1)\n",
    "print(nombre_variable5)"
   ]
  },
  {
   "cell_type": "code",
   "execution_count": null,
   "metadata": {},
   "outputs": [],
   "source": [
    "nombre=\"armado\"\n",
    "edad=30\n",
    "\n",
    "\n",
    "#marca error porque uno es texto y el otro número\n",
    "#print(nombre+edad)\n",
    "\n",
    "#transformo edad en string\n",
    "print('hola mi nombre es' + nombre + 'y mi edad es'+ str(edad)) #str int float bool\n",
    "\n",
    "#separo por comas\n",
    "print('hola mi nombre es' , nombre , 'y mi edad es', edad)"
   ]
  },
  {
   "cell_type": "markdown",
   "metadata": {},
   "source": [
    "### Operadores de Cálculo"
   ]
  },
  {
   "cell_type": "code",
   "execution_count": null,
   "metadata": {},
   "outputs": [],
   "source": [
    "a=10\n",
    "b=3\n",
    "\n",
    "print(a+b) #suma\n",
    "print(a-b) #resta\n",
    "print(a*b) #multiplicacion\n",
    "print(a/b) #división\n",
    "print(a**b) #exponente (al cubo)\n",
    "print(a//b) #división enteros\n",
    "print(a%b) #resto de una división\n",
    "\n",
    "print (b+a/2) #8 la multiplicación y la divición van antes\n",
    "print ((b+a)/2) # 13/2"
   ]
  },
  {
   "cell_type": "markdown",
   "metadata": {},
   "source": [
    "### Operadores de asignación"
   ]
  },
  {
   "cell_type": "code",
   "execution_count": null,
   "metadata": {
    "collapsed": true
   },
   "outputs": [],
   "source": [
    "x=3 #igual\n",
    "x+=3 #suma acomulativa\n",
    "x-=3 #resta acomulativa\n",
    "x/=3 #división acomulativa\n",
    "x*=3 #multiplicación acomulativa\n",
    "x**=3 #exponente acomulativa\n",
    "x+=1 #incremento x=x+1\n",
    "x-=1 #decremento x=x-1"
   ]
  },
  {
   "cell_type": "markdown",
   "metadata": {},
   "source": [
    "### Listas ,Arrays,Vectores,Arreglos"
   ]
  },
  {
   "cell_type": "code",
   "execution_count": null,
   "metadata": {
    "collapsed": true
   },
   "outputs": [],
   "source": [
    "nombre_lista=[5.6,'string',True,False,[1,4,5,6]]\n",
    "\n",
    "print(nombre_lista[1])\n",
    "print(nombre_lista[4])\n",
    "print(nombre_lista[4][2])"
   ]
  },
  {
   "cell_type": "code",
   "execution_count": null,
   "metadata": {},
   "outputs": [],
   "source": [
    "colores=['rojo','verde','azul']\n",
    "print (colores) #imprimimos toda la lista\n",
    "print(colores[2])#imprimir el tercer valor\n",
    "\n",
    "colores.append(\"naranja\") #añadimos un elemento al final\n",
    "print(colores)\n",
    "\n",
    "colores.insert(1,\"morado\") #insertamos un elemento en el espacio1\n",
    "print(colores)\n",
    "\n",
    "del colores[0] #se elimina el elemento 0\n",
    "print (colores)\n",
    "\n",
    "colores[3]=\"negro\" #cambiamos naranja por negro\n",
    "print (colores)\n",
    "\n",
    "colores.remove('azul') # eliminamos el color azul\n",
    "print (colores)"
   ]
  },
  {
   "cell_type": "code",
   "execution_count": null,
   "metadata": {},
   "outputs": [],
   "source": [
    "estados=['México','CDMX','Hidalgo','Chihuahua','Tabasco']\n",
    "numeros=[12,34,56,12,10,2,4]\n",
    "\n",
    "estados.sort() #los ordenamos\n",
    "print(estados)\n",
    "\n",
    "numeros.reverse() #se ordenan al reves de como se metieron\n",
    "print(numeros)\n",
    "\n",
    "numeros.sort() #orden menor a mayor\n",
    "print(numeros)\n",
    "\n",
    "numeros.reverse() #ahora sí me lo ordenó de mayor a menor\n",
    "print(numeros)"
   ]
  },
  {
   "cell_type": "markdown",
   "metadata": {},
   "source": [
    "### Diccionarios"
   ]
  },
  {
   "cell_type": "code",
   "execution_count": null,
   "metadata": {},
   "outputs": [],
   "source": [
    "hermanos={'hermano1':\"ramon\", 'hermano2':'Sayra'}\n",
    "\n",
    "hermanos['hermano3']='lizbeth' #añadir un elemeto\n",
    "hermanos['hermano4']='Jesus'\n",
    "print(hermanos)\n",
    "\n",
    "del hermanos['hermano4'] #eliminar elemento\n",
    "print(hermanos)\n",
    "\n",
    "print(hermanos['hermano3'])\n",
    "\n",
    "print(hermanos.keys())\n",
    "print(hermanos.values())"
   ]
  },
  {
   "cell_type": "markdown",
   "metadata": {},
   "source": [
    "### Tuplas"
   ]
  },
  {
   "cell_type": "code",
   "execution_count": 29,
   "metadata": {},
   "outputs": [
    {
     "ename": "NameError",
     "evalue": "name 'estados_tuplas' is not defined",
     "output_type": "error",
     "traceback": [
      "\u001b[1;31m---------------------------------------------------------------------------\u001b[0m",
      "\u001b[1;31mNameError\u001b[0m                                 Traceback (most recent call last)",
      "\u001b[1;32m<ipython-input-29-316e29f06196>\u001b[0m in \u001b[0;36m<module>\u001b[1;34m()\u001b[0m\n\u001b[0;32m      1\u001b[0m \u001b[1;31m#Las tuplas no se pueden cambiar\u001b[0m\u001b[1;33m\u001b[0m\u001b[1;33m\u001b[0m\u001b[0m\n\u001b[0;32m      2\u001b[0m \u001b[0mestados_Tuplas\u001b[0m\u001b[1;33m=\u001b[0m\u001b[1;33m(\u001b[0m\u001b[1;34m'México'\u001b[0m\u001b[1;33m,\u001b[0m\u001b[1;34m'CDMX'\u001b[0m\u001b[1;33m,\u001b[0m\u001b[1;34m'Hidalgo'\u001b[0m\u001b[1;33m,\u001b[0m\u001b[1;34m'Chihuahua'\u001b[0m\u001b[1;33m,\u001b[0m\u001b[1;34m'Tabasco'\u001b[0m\u001b[1;33m)\u001b[0m\u001b[1;33m\u001b[0m\u001b[0m\n\u001b[1;32m----> 3\u001b[1;33m \u001b[0mprint\u001b[0m\u001b[1;33m(\u001b[0m\u001b[0mestados_tuplas\u001b[0m\u001b[1;33m)\u001b[0m\u001b[1;33m\u001b[0m\u001b[0m\n\u001b[0m",
      "\u001b[1;31mNameError\u001b[0m: name 'estados_tuplas' is not defined"
     ]
    }
   ],
   "source": [
    "#Las tuplas no se pueden cambiar\n",
    "estados_Tuplas=('México','CDMX','Hidalgo','Chihuahua','Tabasco')\n",
    "print(estados_tuplas)"
   ]
  },
  {
   "cell_type": "markdown",
   "metadata": {},
   "source": [
    "### Matrices"
   ]
  },
  {
   "cell_type": "code",
   "execution_count": null,
   "metadata": {
    "collapsed": true
   },
   "outputs": [],
   "source": [
    "nombre_matriz=[\n",
    "      ['1nombre','2edad','3escolaridad','4dinero'],\n",
    "    [1,'Armando',30,'maestría',10000],\n",
    "    [2,'josue',34,'doctorado',12000],\n",
    "    [3,'alejandro',25,'licenciatura',8000],\n",
    "    [4,'maria',40,'licenciatura',10000]\n",
    "]\n",
    "\n",
    "print(nombre_matriz[1][1])\n",
    "\n",
    "#cambiar el nombre de armando\n",
    "nombre_matriz[1][1]='Valentin'\n",
    "\n",
    "print(nombre_matriz)"
   ]
  },
  {
   "cell_type": "markdown",
   "metadata": {},
   "source": [
    " # Programación Estructurada"
   ]
  },
  {
   "cell_type": "markdown",
   "metadata": {},
   "source": [
    "### Condicionales IF/ ELIF /ELSE"
   ]
  },
  {
   "cell_type": "code",
   "execution_count": null,
   "metadata": {
    "collapsed": true
   },
   "outputs": [],
   "source": [
    "'''\n",
    "if condición:\n",
    "    instrucciones\n",
    "elif codición:\n",
    "    instrucciones\n",
    "else:\n",
    "    instrucciones\n",
    "'''\n",
    "q=12\n",
    "r=10\n",
    "\n",
    "if q>r:\n",
    "    print('el valor de q mayor a r')\n",
    "elif q==r:\n",
    "    print('el valor de q es igual a r')\n",
    "else:\n",
    "    print('el valor de q es menor a r')"
   ]
  },
  {
   "cell_type": "code",
   "execution_count": null,
   "metadata": {
    "collapsed": true
   },
   "outputs": [],
   "source": [
    "# Ejemplo de condicional\n",
    "universidad=input(\"escribe tu universidad\")\n",
    "edad=int(input(\"dinos tu edad\"))\n",
    "departamento=input(\"escribe tu departamento\")\n",
    "\n",
    "if universidad != \"chapingo\":\n",
    "    print(\"adios!!\")  \n",
    "else:\n",
    "    if departamento== \"zootecnia\":\n",
    "        print(\"pasale amigo\")\n",
    "    else:\n",
    "        if edad >=18:\n",
    "            print(\"pasale amigo\")"
   ]
  },
  {
   "cell_type": "markdown",
   "metadata": {},
   "source": [
    "### Operadores de comparación"
   ]
  },
  {
   "cell_type": "code",
   "execution_count": null,
   "metadata": {},
   "outputs": [],
   "source": [
    "a=5\n",
    "b=3\n",
    "\n",
    "print(a==b) #igual que\n",
    "print(a!=b) #diferente de\n",
    "print(a>b) #mayor que\n",
    "print(a<b) #menor que\n",
    "print(a<=b) #menor o igual que\n",
    "print(a>=b) #mayor o igual que\n",
    "\n",
    "c=8\n",
    "print(c>a>b) #comparación de varios números"
   ]
  },
  {
   "cell_type": "markdown",
   "metadata": {},
   "source": [
    "### Operadores lógicos"
   ]
  },
  {
   "cell_type": "code",
   "execution_count": null,
   "metadata": {
    "collapsed": true
   },
   "outputs": [],
   "source": [
    "j=10\n",
    "k=5\n",
    "\n",
    "'''\n",
    "y: and\n",
    "o: or\n",
    "negación: not\n",
    "'''\n",
    "print (j<9 and k < 9)\n",
    "print (j<9 or k < 9)\n",
    "print (not j==10)\n"
   ]
  },
  {
   "cell_type": "markdown",
   "metadata": {},
   "source": [
    "### Ciclos"
   ]
  },
  {
   "cell_type": "code",
   "execution_count": null,
   "metadata": {
    "collapsed": true
   },
   "outputs": [],
   "source": [
    "#ciclo while\n",
    "\n",
    "c=0\n",
    "while c<10:\n",
    "    print('C menor que 10','impresion número',c)\n",
    "    c+=2 #este es un contador"
   ]
  },
  {
   "cell_type": "code",
   "execution_count": null,
   "metadata": {
    "collapsed": true
   },
   "outputs": [],
   "source": [
    "#ciclo for\n",
    "\n",
    "#range(número empieza, número antes de llegar, saltos)\n",
    "for i in range(0,10,2):\n",
    "    print('impresion número',i)\n"
   ]
  },
  {
   "cell_type": "markdown",
   "metadata": {},
   "source": [
    "# Programación Modular"
   ]
  },
  {
   "cell_type": "code",
   "execution_count": null,
   "metadata": {
    "collapsed": true
   },
   "outputs": [],
   "source": [
    "#def nombre funcion():\n",
    "# instrucciones\n",
    "\n",
    "\n",
    "def nombre_funcion():\n",
    "    print('arranca funcion')\n",
    "\n",
    "def funcion_multiplica(argumento1,argumento2):\n",
    "    resultado=argumento1*argumento2\n",
    "    print(resultado)\n",
    "    \n",
    "\n",
    "def funcion_multiple(primerN,segundoN):\n",
    "    primerN*segundoN\n",
    "    primerN+segundoN\n",
    "    return primerN/segundoN\n",
    "\n",
    "funcion_multiple(10,5) #este no se ve pero aqui hay un valor\n",
    "\n",
    "valor=funcion_multiple(10,2)\n",
    "print(valor)\n",
    "\n",
    "#########################################################################\n",
    "def funcion_multiple2(primerx,segundoy):\n",
    "    primerx*segundoy\n",
    "    sumados=primerx+segundoy\n",
    "    print(sumados)\n",
    "    return primerx/segundoy\n",
    "\n",
    "funcion_multiple2(10,5)"
   ]
  },
  {
   "cell_type": "markdown",
   "metadata": {},
   "source": [
    "# Programación Orientada a Objetos\n"
   ]
  },
  {
   "cell_type": "code",
   "execution_count": null,
   "metadata": {
    "collapsed": true
   },
   "outputs": [],
   "source": []
  },
  {
   "cell_type": "markdown",
   "metadata": {},
   "source": [
    "# Librerias"
   ]
  },
  {
   "cell_type": "markdown",
   "metadata": {},
   "source": [
    "<h3>Librerías para gráficos</h3>\n",
    "<p>plotly<p>\n",
    "<br>\n",
    "<h3>Librerías para machine learning</h3>\n",
    "<p> sklearn<p>"
   ]
  },
  {
   "cell_type": "code",
   "execution_count": null,
   "metadata": {
    "collapsed": true
   },
   "outputs": [],
   "source": []
  }
 ],
 "metadata": {
  "kernelspec": {
   "display_name": "Python 3",
   "language": "python",
   "name": "python3"
  },
  "language_info": {
   "codemirror_mode": {
    "name": "ipython",
    "version": 3
   },
   "file_extension": ".py",
   "mimetype": "text/x-python",
   "name": "python",
   "nbconvert_exporter": "python",
   "pygments_lexer": "ipython3",
   "version": "3.6.2"
  }
 },
 "nbformat": 4,
 "nbformat_minor": 2
}
