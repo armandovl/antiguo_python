{
  "nbformat": 4,
  "nbformat_minor": 0,
  "metadata": {
    "colab": {
      "name": "Speech to Text.ipynb",
      "provenance": [],
      "authorship_tag": "ABX9TyPm8u8tvHBuodSOI0DjqGeT",
      "include_colab_link": true
    },
    "kernelspec": {
      "name": "python3",
      "display_name": "Python 3"
    }
  },
  "cells": [
    {
      "cell_type": "markdown",
      "metadata": {
        "id": "view-in-github",
        "colab_type": "text"
      },
      "source": [
        "<a href=\"https://colab.research.google.com/github/armandovl/antiguo_python/blob/master/Speech_to_Text.ipynb\" target=\"_parent\"><img src=\"https://colab.research.google.com/assets/colab-badge.svg\" alt=\"Open In Colab\"/></a>"
      ]
    },
    {
      "cell_type": "markdown",
      "metadata": {
        "id": "QVjkYCs7cZNq",
        "colab_type": "text"
      },
      "source": [
        "### Ejercicio Básico  de Audio a Texto"
      ]
    },
    {
      "cell_type": "code",
      "metadata": {
        "id": "oSHMTJz0SsFu",
        "colab_type": "code",
        "colab": {}
      },
      "source": [
        "# instalar la biblioteca ya que no viene por default en colab\n",
        "!pip install SpeechRecognition"
      ],
      "execution_count": null,
      "outputs": []
    },
    {
      "cell_type": "code",
      "metadata": {
        "id": "6_t_GstCTIBP",
        "colab_type": "code",
        "colab": {}
      },
      "source": [
        "#llamamos a la biblioteca \n",
        "import speech_recognition as sr"
      ],
      "execution_count": null,
      "outputs": []
    },
    {
      "cell_type": "code",
      "metadata": {
        "id": "atfBVAKKTONw",
        "colab_type": "code",
        "colab": {}
      },
      "source": [
        "# creamos una instancia de reconocimiento\n",
        "r=sr.Recognizer()"
      ],
      "execution_count": null,
      "outputs": []
    },
    {
      "cell_type": "code",
      "metadata": {
        "id": "frM4VDKUTTi2",
        "colab_type": "code",
        "colab": {}
      },
      "source": [
        "#importamos el archivo de audio\n",
        "audio_file=sr.AudioFile('copro1.wav')"
      ],
      "execution_count": null,
      "outputs": []
    },
    {
      "cell_type": "code",
      "metadata": {
        "id": "kB3vI62oTiqs",
        "colab_type": "code",
        "colab": {}
      },
      "source": [
        "# poner el archivo como una fuente\n",
        "with audio_file as source:\n",
        "  audio_analizar=r.record(source)"
      ],
      "execution_count": null,
      "outputs": []
    },
    {
      "cell_type": "code",
      "metadata": {
        "id": "gtTa3xMnTukl",
        "colab_type": "code",
        "colab": {}
      },
      "source": [
        "#aplicar la api de reconocimiento de google con lenguaje mexicano\n",
        "text_1=r.recognize_google(audio_analizar, language='es-MX')"
      ],
      "execution_count": null,
      "outputs": []
    },
    {
      "cell_type": "code",
      "metadata": {
        "id": "AO0h8tX1UBtt",
        "colab_type": "code",
        "colab": {}
      },
      "source": [
        "#imprimir lo que reconoció la pagina\n",
        "print(text_1)"
      ],
      "execution_count": null,
      "outputs": []
    }
  ]
}