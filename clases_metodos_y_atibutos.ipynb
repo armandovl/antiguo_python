{
 "cells": [
  {
   "cell_type": "markdown",
   "metadata": {},
   "source": [
    "# Clases\n",
    "**Cursos de Udemy:** \n",
    "   * Python desde cero hasta analísis estadísticos con Pandas y Numpy.\n",
    "   * Toma de decisión usando la tecnología disponible."
   ]
  },
  {
   "cell_type": "markdown",
   "metadata": {},
   "source": [
    "# Clases"
   ]
  },
  {
   "cell_type": "code",
   "execution_count": null,
   "metadata": {},
   "outputs": [],
   "source": [
    "#Clase Persona\n",
    "class Persona:\n",
    "    #el constructor\n",
    "    def __init__(self, nombre, apellido, edad):\n",
    "        self.nombre=nombre\n",
    "        self.apellido = apellido\n",
    "        self.edad = edad\n",
    "        self.correo=(self.apellido.replace(' ','')+self.nombre.replace(' ','')+'@estecurso.com').lower()\n",
    "    \n"
   ]
  },
  {
   "cell_type": "code",
   "execution_count": null,
   "metadata": {},
   "outputs": [],
   "source": [
    "juanito= Persona('Juan Anibal', 'Pérez',25)\n",
    "#  \n",
    "print(juanito.correo)\n",
    "\n"
   ]
  },
  {
   "cell_type": "code",
   "execution_count": null,
   "metadata": {},
   "outputs": [],
   "source": [
    "print(juanito) #no hemos definido la salida para esta línea de código\n"
   ]
  },
  {
   "cell_type": "code",
   "execution_count": 9,
   "metadata": {},
   "outputs": [],
   "source": [
    "#Clase Persona\n",
    "class Persona:\n",
    "    def __init__(self, nombre, apellido, edad):\n",
    "        self.nombre=nombre\n",
    "        self.apellido = apellido\n",
    "        self.edad = edad\n",
    "        self.correo=(self.apellido.replace(' ','')+self.nombre.replace(' ','')+'@estecurso.com').lower()\n",
    "        \n",
    "    def __str__(self):\n",
    "        return 'Nombre completo: '+self.apellido +', '+self.nombre\n",
    "    \n",
    "    def saludo(self): #metodo de instancia\n",
    "        return \"Hola soy \"+ self.nombre"
   ]
  },
  {
   "cell_type": "code",
   "execution_count": 13,
   "metadata": {},
   "outputs": [
    {
     "name": "stdout",
     "output_type": "stream",
     "text": [
      "Nombre completo: Peña, Ana Gilberta\n"
     ]
    }
   ],
   "source": [
    "persona1= Persona('Ana Gilberta', 'Peña',62)\n",
    "#\n",
    "print(persona1)"
   ]
  },
  {
   "cell_type": "code",
   "execution_count": 12,
   "metadata": {},
   "outputs": [
    {
     "name": "stdout",
     "output_type": "stream",
     "text": [
      "Hola soy Ana Gilberta\n"
     ]
    }
   ],
   "source": [
    "print(persona1.saludo());"
   ]
  },
  {
   "cell_type": "code",
   "execution_count": null,
   "metadata": {},
   "outputs": [],
   "source": [
    "juanito= Persona('Juan Anibal', 'Pérez',25)\n",
    "persona1= Persona('Ana Gilberta', 'Peña',62)\n",
    "persona2= Persona('Sofia Juana', 'Pietro',21)\n",
    "amanda= Persona('Soina Amanda', 'Palacios',81)\n",
    "\n",
    "lista_de_nombres=[juanito, persona1, persona2, amanda]"
   ]
  },
  {
   "cell_type": "code",
   "execution_count": null,
   "metadata": {},
   "outputs": [],
   "source": []
  },
  {
   "cell_type": "code",
   "execution_count": null,
   "metadata": {},
   "outputs": [],
   "source": [
    "for personas in lista_de_nombres:\n",
    "    if(personas.edad>60):\n",
    "        print('jubilar a: {}, {}'.format(personas.apellido,personas.nombre))"
   ]
  },
  {
   "cell_type": "code",
   "execution_count": 2,
   "metadata": {},
   "outputs": [],
   "source": [
    "class Fecha:\n",
    "    \n",
    "    def __init__(self, día, mes, año):\n",
    "        cadena = str(día)+'-'+str(mes)+'-'+str(año)\n",
    "        \n",
    "        if(Fecha.es_la_fecha_válida(cadena)):\n",
    "            self.día = día\n",
    "            self.mes = mes\n",
    "            self.año = año\n",
    "            print('La fecha es válida')\n",
    "        else:\n",
    "            self.día = 1\n",
    "            self.mes = 1\n",
    "            self.año = 1900\n",
    "            print('La fecha 01/01/1900 se establece por defecto')\n",
    "\n",
    "    @staticmethod\n",
    "    def es_la_fecha_válida(fecha_como_cadena):\n",
    "        día, mes, año = map(int, fecha_como_cadena.split('-'))\n",
    "        return día <= 31 and mes <= 12 and año <= 3000\n",
    "    \n",
    "    @classmethod\n",
    "    def desde_cadena(cls, date_as_string):\n",
    "        día, mes, año = map(int, date_as_string.split('-'))\n",
    "        date1 = cls(día, mes, año)\n",
    "        return date1\n",
    "    \n",
    "    def __str__(self):\n",
    "        return str(self.día)+'-'+str(self.mes)+'-'+str(self.año)\n",
    "\n"
   ]
  },
  {
   "cell_type": "code",
   "execution_count": 5,
   "metadata": {},
   "outputs": [
    {
     "name": "stdout",
     "output_type": "stream",
     "text": [
      "True\n"
     ]
    }
   ],
   "source": [
    "es_una_fecha = Fecha.es_la_fecha_válida('19-9-2022')\n",
    "\n",
    "print(es_una_fecha)\n"
   ]
  },
  {
   "cell_type": "code",
   "execution_count": 6,
   "metadata": {},
   "outputs": [
    {
     "name": "stdout",
     "output_type": "stream",
     "text": [
      "La fecha 01/01/1900 se establece por defecto\n",
      "1-1-1900\n"
     ]
    }
   ],
   "source": [
    "print(Fecha.desde_cadena('17-19-2022'))"
   ]
  },
  {
   "cell_type": "code",
   "execution_count": 7,
   "metadata": {},
   "outputs": [
    {
     "name": "stdout",
     "output_type": "stream",
     "text": [
      "La fecha es válida\n",
      "fecha 6-1-2020\n",
      "La fecha es válida\n",
      "fecha 8-2-2020\n",
      "La fecha es válida\n",
      "fecha 10-3-2020\n",
      "La fecha es válida\n",
      "fecha 12-4-2020\n",
      "La fecha es válida\n",
      "fecha 14-5-2020\n",
      "La fecha es válida\n",
      "fecha 16-6-2020\n",
      "La fecha es válida\n",
      "fecha 18-7-2020\n",
      "La fecha es válida\n",
      "fecha 20-8-2020\n",
      "La fecha es válida\n",
      "fecha 22-9-2020\n",
      "La fecha es válida\n",
      "fecha 24-10-2020\n",
      "La fecha es válida\n",
      "fecha 26-11-2020\n",
      "La fecha es válida\n",
      "fecha 28-12-2020\n"
     ]
    }
   ],
   "source": [
    "class Agenda:\n",
    "    def __init__(self, fecha, nota):\n",
    "        self.fecha=fecha\n",
    "        self.nota=nota\n",
    "nombres=['Manuel','Rocío','Carlos','Raquel','Milagros','Soria','Nahuel','Brenda','Soly','Crys','El Loco','Cheo','José']\n",
    "lista_agenda=[]        \n",
    "for x in range(1,13):\n",
    "    \n",
    "    fecha= Fecha(x*2+4,x,2020)\n",
    "    print('fecha',fecha)\n",
    "    nota='cumpleaños de '+ nombres[x]\n",
    "    anotación_en_agenda=Agenda(fecha, nota)\n",
    "    lista_agenda.append(anotación_en_agenda)\n",
    "    "
   ]
  },
  {
   "cell_type": "code",
   "execution_count": 8,
   "metadata": {},
   "outputs": [
    {
     "name": "stdout",
     "output_type": "stream",
     "text": [
      "El 6-1-2020 es el cumpleaños de Rocío\n",
      "El 8-2-2020 es el cumpleaños de Carlos\n",
      "El 10-3-2020 es el cumpleaños de Raquel\n",
      "El 12-4-2020 es el cumpleaños de Milagros\n",
      "El 14-5-2020 es el cumpleaños de Soria\n",
      "El 16-6-2020 es el cumpleaños de Nahuel\n",
      "El 18-7-2020 es el cumpleaños de Brenda\n",
      "El 20-8-2020 es el cumpleaños de Soly\n",
      "El 22-9-2020 es el cumpleaños de Crys\n",
      "El 24-10-2020 es el cumpleaños de El Loco\n",
      "El 26-11-2020 es el cumpleaños de Cheo\n",
      "El 28-12-2020 es el cumpleaños de José\n"
     ]
    }
   ],
   "source": [
    "for agendados in lista_agenda:\n",
    "    print('El {} es el {}'.format(agendados.fecha,agendados.nota))"
   ]
  },
  {
   "cell_type": "code",
   "execution_count": null,
   "metadata": {},
   "outputs": [],
   "source": []
  }
 ],
 "metadata": {
  "kernelspec": {
   "display_name": "Python 3",
   "language": "python",
   "name": "python3"
  },
  "language_info": {
   "codemirror_mode": {
    "name": "ipython",
    "version": 3
   },
   "file_extension": ".py",
   "mimetype": "text/x-python",
   "name": "python",
   "nbconvert_exporter": "python",
   "pygments_lexer": "ipython3",
   "version": "3.6.7"
  }
 },
 "nbformat": 4,
 "nbformat_minor": 2
}
