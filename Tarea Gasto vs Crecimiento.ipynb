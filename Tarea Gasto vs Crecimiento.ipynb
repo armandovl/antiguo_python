{
 "cells": [
  {
   "cell_type": "markdown",
   "metadata": {},
   "source": [
    "<img src=\"https://www.sccpre.cat/mypng/full/403-4035365_tec-logo-png-logo-tec-de-monterrey.png\"\n",
    "        width=\"100\"  style=\"float: left; margin-right: 10px;\" /> \n",
    "       <div>\n",
    "       <h1>Ejercicio de Regresión Lineal Simple</h1>\n",
    "       <h4>Gasto Público y Tasa de Crecimiento<br>Armando Valdés López<br>Septiembre 2019</h4>\n",
    "       </div>\n",
    "     "
   ]
  },
  {
   "cell_type": "code",
   "execution_count": 24,
   "metadata": {
    "collapsed": true
   },
   "outputs": [],
   "source": [
    "%matplotlib inline \n",
    "import pandas as pd\n",
    "import numpy as np\n",
    "import matplotlib.pyplot as plt\n",
    "import seaborn as sns\n",
    "from sklearn.linear_model import LinearRegression\n",
    "from sklearn.metrics import mean_squared_error\n",
    "from math import sqrt"
   ]
  },
  {
   "cell_type": "markdown",
   "metadata": {},
   "source": [
    "### 01.- Preparación de Datos"
   ]
  },
  {
   "cell_type": "code",
   "execution_count": 25,
   "metadata": {
    "collapsed": true
   },
   "outputs": [],
   "source": [
    "Base_de_Datos= pd.read_excel('GPA_Y_CRECIMIENTO.xlsx')\n",
    "Datos=pd.DataFrame(Base_de_Datos)"
   ]
  },
  {
   "cell_type": "code",
   "execution_count": 27,
   "metadata": {},
   "outputs": [
    {
     "data": {
      "text/html": [
       "<div>\n",
       "<style>\n",
       "    .dataframe thead tr:only-child th {\n",
       "        text-align: right;\n",
       "    }\n",
       "\n",
       "    .dataframe thead th {\n",
       "        text-align: left;\n",
       "    }\n",
       "\n",
       "    .dataframe tbody tr th {\n",
       "        vertical-align: top;\n",
       "    }\n",
       "</style>\n",
       "<table border=\"1\" class=\"dataframe\">\n",
       "  <thead>\n",
       "    <tr style=\"text-align: right;\">\n",
       "      <th></th>\n",
       "      <th>Pais</th>\n",
       "      <th>Estatus</th>\n",
       "      <th>Gasto_Publico</th>\n",
       "      <th>Tasa_Crecimiento</th>\n",
       "    </tr>\n",
       "  </thead>\n",
       "  <tbody>\n",
       "    <tr>\n",
       "      <th>39</th>\n",
       "      <td>MEXICO_DA</td>\n",
       "      <td>MAL</td>\n",
       "      <td>22.976190</td>\n",
       "      <td>1.8125</td>\n",
       "    </tr>\n",
       "    <tr>\n",
       "      <th>40</th>\n",
       "      <td>MEXICO_IR</td>\n",
       "      <td>MAL</td>\n",
       "      <td>23.000000</td>\n",
       "      <td>1.9000</td>\n",
       "    </tr>\n",
       "    <tr>\n",
       "      <th>41</th>\n",
       "      <td>MEXICO_JO</td>\n",
       "      <td>MAL</td>\n",
       "      <td>22.976190</td>\n",
       "      <td>1.8125</td>\n",
       "    </tr>\n",
       "    <tr>\n",
       "      <th>42</th>\n",
       "      <td>MEXICO_PI</td>\n",
       "      <td>MAL</td>\n",
       "      <td>22.970000</td>\n",
       "      <td>1.9000</td>\n",
       "    </tr>\n",
       "    <tr>\n",
       "      <th>0</th>\n",
       "      <td>ARGENTINA_DA</td>\n",
       "      <td>BIEN</td>\n",
       "      <td>3.571429</td>\n",
       "      <td>2.0625</td>\n",
       "    </tr>\n",
       "    <tr>\n",
       "      <th>46</th>\n",
       "      <td>NICARAGUA_PI</td>\n",
       "      <td>BIEN</td>\n",
       "      <td>10.950000</td>\n",
       "      <td>4.1300</td>\n",
       "    </tr>\n",
       "    <tr>\n",
       "      <th>50</th>\n",
       "      <td>PANAMA_JO</td>\n",
       "      <td>BIEN</td>\n",
       "      <td>14.285714</td>\n",
       "      <td>5.3125</td>\n",
       "    </tr>\n",
       "  </tbody>\n",
       "</table>\n",
       "</div>"
      ],
      "text/plain": [
       "            Pais Estatus  Gasto_Publico  Tasa_Crecimiento\n",
       "39     MEXICO_DA     MAL      22.976190            1.8125\n",
       "40     MEXICO_IR     MAL      23.000000            1.9000\n",
       "41     MEXICO_JO     MAL      22.976190            1.8125\n",
       "42     MEXICO_PI     MAL      22.970000            1.9000\n",
       "0   ARGENTINA_DA    BIEN       3.571429            2.0625\n",
       "46  NICARAGUA_PI    BIEN      10.950000            4.1300\n",
       "50     PANAMA_JO    BIEN      14.285714            5.3125"
      ]
     },
     "execution_count": 27,
     "metadata": {},
     "output_type": "execute_result"
    }
   ],
   "source": [
    "Datos.sort_values(by=['Estatus'],ascending=[False]).head(7)"
   ]
  },
  {
   "cell_type": "code",
   "execution_count": 26,
   "metadata": {},
   "outputs": [
    {
     "name": "stdout",
     "output_type": "stream",
     "text": [
      "NUEVOS DATOS SIN MEXICO\n"
     ]
    },
    {
     "data": {
      "text/html": [
       "<div>\n",
       "<style>\n",
       "    .dataframe thead tr:only-child th {\n",
       "        text-align: right;\n",
       "    }\n",
       "\n",
       "    .dataframe thead th {\n",
       "        text-align: left;\n",
       "    }\n",
       "\n",
       "    .dataframe tbody tr th {\n",
       "        vertical-align: top;\n",
       "    }\n",
       "</style>\n",
       "<table border=\"1\" class=\"dataframe\">\n",
       "  <thead>\n",
       "    <tr style=\"text-align: right;\">\n",
       "      <th></th>\n",
       "      <th>Pais</th>\n",
       "      <th>Estatus</th>\n",
       "      <th>Gasto_Publico</th>\n",
       "      <th>Tasa_Crecimiento</th>\n",
       "    </tr>\n",
       "  </thead>\n",
       "  <tbody>\n",
       "    <tr>\n",
       "      <th>0</th>\n",
       "      <td>ARGENTINA_DA</td>\n",
       "      <td>BIEN</td>\n",
       "      <td>3.571429</td>\n",
       "      <td>2.0625</td>\n",
       "    </tr>\n",
       "    <tr>\n",
       "      <th>1</th>\n",
       "      <td>ARGENTINA_IR</td>\n",
       "      <td>BIEN</td>\n",
       "      <td>3.800000</td>\n",
       "      <td>2.1000</td>\n",
       "    </tr>\n",
       "    <tr>\n",
       "      <th>2</th>\n",
       "      <td>ARGENTINA_JO</td>\n",
       "      <td>BIEN</td>\n",
       "      <td>3.571429</td>\n",
       "      <td>2.0625</td>\n",
       "    </tr>\n",
       "    <tr>\n",
       "      <th>3</th>\n",
       "      <td>ARGENTINA_PI</td>\n",
       "      <td>BIEN</td>\n",
       "      <td>3.690000</td>\n",
       "      <td>2.1600</td>\n",
       "    </tr>\n",
       "    <tr>\n",
       "      <th>4</th>\n",
       "      <td>BOLIVIA_DA</td>\n",
       "      <td>BIEN</td>\n",
       "      <td>5.357143</td>\n",
       "      <td>1.8125</td>\n",
       "    </tr>\n",
       "    <tr>\n",
       "      <th>5</th>\n",
       "      <td>BOLIVIA_IR</td>\n",
       "      <td>BIEN</td>\n",
       "      <td>5.800000</td>\n",
       "      <td>1.8000</td>\n",
       "    </tr>\n",
       "    <tr>\n",
       "      <th>6</th>\n",
       "      <td>BOLIVIA_JO</td>\n",
       "      <td>BIEN</td>\n",
       "      <td>5.357143</td>\n",
       "      <td>1.8125</td>\n",
       "    </tr>\n",
       "  </tbody>\n",
       "</table>\n",
       "</div>"
      ],
      "text/plain": [
       "           Pais Estatus  Gasto_Publico  Tasa_Crecimiento\n",
       "0  ARGENTINA_DA    BIEN       3.571429            2.0625\n",
       "1  ARGENTINA_IR    BIEN       3.800000            2.1000\n",
       "2  ARGENTINA_JO    BIEN       3.571429            2.0625\n",
       "3  ARGENTINA_PI    BIEN       3.690000            2.1600\n",
       "4    BOLIVIA_DA    BIEN       5.357143            1.8125\n",
       "5    BOLIVIA_IR    BIEN       5.800000            1.8000\n",
       "6    BOLIVIA_JO    BIEN       5.357143            1.8125"
      ]
     },
     "execution_count": 26,
     "metadata": {},
     "output_type": "execute_result"
    }
   ],
   "source": [
    "Datos_sin_Mexico = Datos.drop(Datos[Datos['Estatus']=='MAL'].index)\n",
    "print(\"NUEVOS DATOS SIN MEXICO\")\n",
    "Datos_sin_Mexico.head(7)"
   ]
  },
  {
   "cell_type": "code",
   "execution_count": 28,
   "metadata": {
    "scrolled": true
   },
   "outputs": [
    {
     "name": "stdout",
     "output_type": "stream",
     "text": [
      "Descripción de los Datos sin México\n",
      "Observaciones y Variables (65, 4)\n",
      " \n",
      "Resumen de Datos Cuantitativos\n",
      "                  count      mean       std      min       25%  50%  75%  \\\n",
      "Gasto_Publico      65.0  6.485031  4.012499  0.47000  3.690476  5.4  8.3   \n",
      "Tasa_Crecimiento   65.0  2.744321  1.542742  0.47619  1.350000  2.5  3.6   \n",
      "\n",
      "                        max  \n",
      "Gasto_Publico     14.285714  \n",
      "Tasa_Crecimiento   5.800000  \n"
     ]
    }
   ],
   "source": [
    "print(\"Descripción de los Datos sin México\")\n",
    "print(\"Observaciones y Variables\",Datos_sin_Mexico.shape)\n",
    "summary2 = Datos_sin_Mexico.describe()\n",
    "summary2 = summary2.transpose()\n",
    "print(\" \")\n",
    "print(\"Resumen de Datos Cuantitativos\")\n",
    "print(summary2)"
   ]
  },
  {
   "cell_type": "markdown",
   "metadata": {},
   "source": [
    "### 02.- Visualización de Datos"
   ]
  },
  {
   "cell_type": "code",
   "execution_count": 29,
   "metadata": {
    "collapsed": true
   },
   "outputs": [],
   "source": [
    "x_sin=np.array(Datos_sin_Mexico.Gasto_Publico).reshape((-1,1))\n",
    "y_sin=np.array(Datos_sin_Mexico.Tasa_Crecimiento)"
   ]
  },
  {
   "cell_type": "code",
   "execution_count": 30,
   "metadata": {
    "scrolled": false
   },
   "outputs": [
    {
     "data": {
      "image/png": "[encoded data removed]",
      "text/plain": [
       "<matplotlib.figure.Figure at 0x1a88651aef0>"
      ]
     },
     "metadata": {},
     "output_type": "display_data"
    }
   ],
   "source": [
    "sns.set(style=\"darkgrid\")\n",
    "g = sns.jointplot(\"Gasto_Publico\", \"Tasa_Crecimiento\", data=Datos_sin_Mexico,kind=\"reg\",\n",
    "                  xlim=(0,20) , ylim=(0, 7), color=\"g\")"
   ]
  },
  {
   "cell_type": "markdown",
   "metadata": {},
   "source": [
    "### 03.- Resultados de la Regresión "
   ]
  },
  {
   "cell_type": "code",
   "execution_count": 34,
   "metadata": {},
   "outputs": [
    {
     "name": "stdout",
     "output_type": "stream",
     "text": [
      "Intercepto a 0.725516261512\n",
      "Pendiente b [ 0.31130222]\n",
      "Coeficiente de determinación 0.655552976036\n",
      "Error cuadrático medio 0.807189667094\n",
      "Raiz del error cuadrático medio 0.8984373473393845\n"
     ]
    }
   ],
   "source": [
    "model2=LinearRegression()\n",
    "model2.fit(x_sin,y_sin)\n",
    "R_sq2=model2.score(x_sin,y_sin)\n",
    "y_pred=model2.predict(x_sin)\n",
    "ecm=mean_squared_error(y_sin,y_pred)\n",
    "rms2 = sqrt(mean_squared_error(y_sin,y_pred))\n",
    "print(\"Intercepto a\",model2.intercept_)\n",
    "print(\"Pendiente b\",model2.coef_)\n",
    "print(\"Coeficiente de determinación\",R_sq2)\n",
    "print(\"Error cuadrático medio\",ecm)\n",
    "print(\"Raiz del error cuadrático medio\", rms2)"
   ]
  },
  {
   "cell_type": "code",
   "execution_count": null,
   "metadata": {
    "collapsed": true
   },
   "outputs": [],
   "source": [
    "#Predecir datos\n",
    "x_new=np.array([10,11,12]).reshape((-1,1))\n",
    "y_new=model2.predict(x_new)\n",
    "print(y_new)"
   ]
  },
  {
   "cell_type": "markdown",
   "metadata": {},
   "source": [
    "************************************************************************************"
   ]
  },
  {
   "cell_type": "markdown",
   "metadata": {},
   "source": [
    "<img src=\"https://www.sccpre.cat/mypng/full/403-4035365_tec-logo-png-logo-tec-de-monterrey.png\"\n",
    "        width=\"100\"  style=\"float: left; margin-right: 10px;\" /> \n",
    "       <div>\n",
    "       <h1>Ejercicio Mínimos Cuadrados Ordinales</h1>\n",
    "       <h4>Gasto Público y Tasa de Crecimiento<br>Armando Valdés López<br>Septiembre 2019</h4>\n",
    "       </div>\n"
   ]
  },
  {
   "cell_type": "markdown",
   "metadata": {},
   "source": [
    "## Fórmula de la Regresión \n",
    "\n",
    "<img src=\"imgreg/regresion1.png\"\n",
    "        width=\"150\"  style=\"float: left; margin-right: 10px;\" /> "
   ]
  },
  {
   "cell_type": "markdown",
   "metadata": {},
   "source": [
    "## Estimador\n",
    "\n",
    "<img src=\"imgreg/regresion2.png\"\n",
    "        width=\"120\"  style=\"float: left; margin-right: 10px;\" /> "
   ]
  },
  {
   "cell_type": "markdown",
   "metadata": {
    "collapsed": true
   },
   "source": [
    "**********************************************************************"
   ]
  },
  {
   "cell_type": "markdown",
   "metadata": {},
   "source": [
    "## Obtención de \"b\" 1ra Forma\n",
    "\n",
    "\n",
    "<img src=\"imgreg/regresion3.png\"\n",
    "        width=\"120\"  style=\"float: left; margin-right: 10px;\" /> "
   ]
  },
  {
   "cell_type": "code",
   "execution_count": null,
   "metadata": {
    "collapsed": true
   },
   "outputs": [],
   "source": [
    "#Se obtiene el coeficiente de correlación\n",
    "Pxy=np.corrcoef(Datos_sin_Mexico.Gasto_Publico, Datos_sin_Mexico.Tasa_Crecimiento) #correlacion\n",
    "Pxy"
   ]
  },
  {
   "cell_type": "code",
   "execution_count": null,
   "metadata": {
    "collapsed": true
   },
   "outputs": [],
   "source": [
    "ds_x=np.std(Datos_sin_Mexico.Gasto_Publico, ddof=1) #muestral\n",
    "ds_y=np.std(Datos_sin_Mexico.Tasa_Crecimiento, ddof=1)\n",
    "\n",
    "print(\"Sx =\", ds_x)\n",
    "print(\"Sy =\", ds_y)"
   ]
  },
  {
   "cell_type": "code",
   "execution_count": null,
   "metadata": {
    "collapsed": true
   },
   "outputs": [],
   "source": [
    "b1 = 0.80966226 * (1.5427418821430534 / 4.0124990502258555)\n",
    "print(\"Pendiente b =\",b1)"
   ]
  },
  {
   "cell_type": "markdown",
   "metadata": {},
   "source": [
    "### Pendiente b = 0.311302224189259"
   ]
  },
  {
   "cell_type": "markdown",
   "metadata": {},
   "source": [
    "**************************************************"
   ]
  },
  {
   "cell_type": "markdown",
   "metadata": {},
   "source": [
    "## Obtención de \"b\" 2da Forma\n",
    "\n",
    "\n",
    "<img src=\"imgreg/regresion5.png\"\n",
    "        width=\"120\"  style=\"float: left; margin-right: 10px;\" />"
   ]
  },
  {
   "cell_type": "code",
   "execution_count": null,
   "metadata": {
    "collapsed": true
   },
   "outputs": [],
   "source": [
    "#sacamos la covarianza de x y Y\n",
    "Cov_xy=np.cov(Datos_sin_Mexico.Gasto_Publico, Datos_sin_Mexico.Tasa_Crecimiento)\n",
    "Cov_xy"
   ]
  },
  {
   "cell_type": "code",
   "execution_count": null,
   "metadata": {
    "collapsed": true
   },
   "outputs": [],
   "source": [
    "Var_x=np.var(Datos_sin_Mexico.Gasto_Publico, ddof=1) #muestral\n",
    "print(\"La varianza de X es = \",Var_x)"
   ]
  },
  {
   "cell_type": "code",
   "execution_count": null,
   "metadata": {
    "collapsed": true
   },
   "outputs": [],
   "source": [
    "print(5.01201208 / 16.100148628063394)"
   ]
  },
  {
   "cell_type": "code",
   "execution_count": null,
   "metadata": {
    "collapsed": true
   },
   "outputs": [],
   "source": [
    "pendiente_b =5.01201208/Var_x\n",
    "print(\"Pendiente b = \", pendiente_b)"
   ]
  },
  {
   "cell_type": "markdown",
   "metadata": {},
   "source": [
    "### Pendiente b =  0.31130222433250104"
   ]
  },
  {
   "cell_type": "markdown",
   "metadata": {},
   "source": [
    "*************************************************************"
   ]
  },
  {
   "cell_type": "markdown",
   "metadata": {},
   "source": [
    "## Obtención de \"a\"\n",
    "\n",
    "\n",
    "<img src=\"imgreg/regresion4.png\"\n",
    "        width=\"180\"  style=\"float: left; margin-right: 10px;\" />"
   ]
  },
  {
   "cell_type": "code",
   "execution_count": null,
   "metadata": {
    "collapsed": true
   },
   "outputs": [],
   "source": [
    "media_y= np.mean(Datos_sin_Mexico.Tasa_Crecimiento)\n",
    "media_x= np.mean(Datos_sin_Mexico.Gasto_Publico)\n",
    "valor_b=  0.31130222433250104"
   ]
  },
  {
   "cell_type": "code",
   "execution_count": null,
   "metadata": {
    "collapsed": true
   },
   "outputs": [],
   "source": [
    "intercepto = media_y - (valor_b * media_x)\n",
    "intercepto"
   ]
  },
  {
   "cell_type": "markdown",
   "metadata": {},
   "source": [
    "### El intercepto es 0.7255162617645112"
   ]
  }
 ],
 "metadata": {
  "kernelspec": {
   "display_name": "Python 3",
   "language": "python",
   "name": "python3"
  },
  "language_info": {
   "codemirror_mode": {
    "name": "ipython",
    "version": 3
   },
   "file_extension": ".py",
   "mimetype": "text/x-python",
   "name": "python",
   "nbconvert_exporter": "python",
   "pygments_lexer": "ipython3",
   "version": "3.6.2"
  }
 },
 "nbformat": 4,
 "nbformat_minor": 2
}
