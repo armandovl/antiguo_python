{
 "cells": [
  {
   "cell_type": "code",
   "execution_count": null,
   "metadata": {
    "collapsed": true
   },
   "outputs": [],
   "source": [
    "%matplotlib inline \n",
    "import pandas as pd\n",
    "import numpy as np \n",
    "import matplotlib.pyplot as plt #libreria para hacer gráficos1\n",
    "import seaborn as sns #libreria para hacer gráficos"
   ]
  },
  {
   "cell_type": "code",
   "execution_count": null,
   "metadata": {
    "collapsed": true
   },
   "outputs": [],
   "source": [
    "#Traemos la base y la convertimos en dataFrame\n",
    "Base_de_Datos= pd.read_excel('GPA_Y_CRECIMIENTO_sin_mi.xlsx')\n",
    "Datos=pd.DataFrame(Base_de_Datos)"
   ]
  },
  {
   "cell_type": "code",
   "execution_count": null,
   "metadata": {
    "collapsed": true,
    "scrolled": true
   },
   "outputs": [],
   "source": [
    "Datos.head(6) #sólo para ver la estructura de datosDatos_sin_Mexico"
   ]
  },
  {
   "cell_type": "code",
   "execution_count": null,
   "metadata": {
    "collapsed": true
   },
   "outputs": [],
   "source": [
    "Datos.shape"
   ]
  },
  {
   "cell_type": "code",
   "execution_count": null,
   "metadata": {
    "collapsed": true
   },
   "outputs": [],
   "source": [
    "summary = Datos.describe()\n",
    "summary = summary.transpose()\n",
    "summary.round(2)"
   ]
  },
  {
   "cell_type": "code",
   "execution_count": null,
   "metadata": {
    "collapsed": true,
    "scrolled": true
   },
   "outputs": [],
   "source": [
    "#Datos.sort_values(by=['Estatus'],ascending=[False]) #ordenamos por estatus\n",
    "Datos.sort_values(by=['Estatus'],ascending=[False]).head(7) #ordenamos por estatus imprimimos los 7 primeros"
   ]
  },
  {
   "cell_type": "code",
   "execution_count": null,
   "metadata": {
    "collapsed": true
   },
   "outputs": [],
   "source": [
    "Datos_sin_Mexico = Datos.drop(Datos[Datos['Estatus']=='MAL'].index)"
   ]
  },
  {
   "cell_type": "code",
   "execution_count": null,
   "metadata": {
    "collapsed": true,
    "scrolled": true
   },
   "outputs": [],
   "source": [
    "Datos_sin_Mexico.shape #observaciones, columnas"
   ]
  },
  {
   "cell_type": "code",
   "execution_count": null,
   "metadata": {
    "collapsed": true
   },
   "outputs": [],
   "source": [
    "Datos_sin_Mexico.describe().round(2).transpose() #summary solo dos decimales, transpuesto"
   ]
  },
  {
   "cell_type": "code",
   "execution_count": null,
   "metadata": {
    "collapsed": true
   },
   "outputs": [],
   "source": [
    "#Datos['Estatus'] #podemos traer así la variable\n",
    "#Datos.Estatus #también la podemos traer así\n",
    "#Datos.Estatus.head(6) #traer solo un cierto número\n",
    "\n",
    "#imprimir el mínimo y máximo de las variables\n",
    "#print(min(Datos_sin_Mexico.Gasto_Publico), max(Datos_sin_Mexico.Gasto_Publico))\n",
    "#print(min(Datos_sin_Mexico.Tasa_Crecimiento), max(Datos_sin_Mexico.Tasa_Crecimiento))"
   ]
  },
  {
   "cell_type": "code",
   "execution_count": null,
   "metadata": {
    "collapsed": true
   },
   "outputs": [],
   "source": [
    "sns.set(style=\"darkgrid\")\n",
    "g = sns.jointplot(\"Gasto_Publico\", \"Tasa_Crecimiento\", data=Datos_sin_Mexico,kind=\"reg\",\n",
    "                  xlim=(-3, 20), ylim=(-1, 7), color=\"g\")"
   ]
  },
  {
   "cell_type": "code",
   "execution_count": null,
   "metadata": {
    "collapsed": true
   },
   "outputs": [],
   "source": [
    "from statsmodels.formula.api import ols #para entrenar el modelo con stats\n",
    "model = ols(\"Tasa_Crecimiento ~ Gasto_Publico\", Datos_sin_Mexico).fit()\n",
    "print(model.summary())"
   ]
  },
  {
   "cell_type": "code",
   "execution_count": null,
   "metadata": {
    "collapsed": true
   },
   "outputs": [],
   "source": [
    "# Otro grafico de seaborn\n",
    "#ax=sns.regplot(x=Datos_sin_Mexico['Gasto_Publico'],y=Datos_sin_Mexico['Tasa_Crecimiento'],color='g',ci=95)"
   ]
  },
  {
   "cell_type": "code",
   "execution_count": 1,
   "metadata": {
    "scrolled": false
   },
   "outputs": [
    {
     "name": "stderr",
     "output_type": "stream",
     "text": [
      "C:\\Program Files (x86)\\Microsoft Visual Studio\\Shared\\Anaconda3_64\\lib\\site-packages\\statsmodels\\compat\\pandas.py:56: FutureWarning: The pandas.core.datetools module is deprecated and will be removed in a future version. Please use the pandas.tseries module instead.\n",
      "  from pandas.core import datetools\n"
     ]
    },
    {
     "ename": "NameError",
     "evalue": "name 'plt' is not defined",
     "output_type": "error",
     "traceback": [
      "\u001b[1;31m---------------------------------------------------------------------------\u001b[0m",
      "\u001b[1;31mNameError\u001b[0m                                 Traceback (most recent call last)",
      "\u001b[1;32m<ipython-input-1-6c8988d7fed6>\u001b[0m in \u001b[0;36m<module>\u001b[1;34m()\u001b[0m\n\u001b[0;32m      1\u001b[0m \u001b[1;32mimport\u001b[0m \u001b[0mstatsmodels\u001b[0m\u001b[1;33m.\u001b[0m\u001b[0mapi\u001b[0m \u001b[1;32mas\u001b[0m \u001b[0msm\u001b[0m \u001b[1;31m#para hacer gráfico de intervalos\u001b[0m\u001b[1;33m\u001b[0m\u001b[0m\n\u001b[1;32m----> 2\u001b[1;33m \u001b[0mfig\u001b[0m\u001b[1;33m,\u001b[0m\u001b[0max\u001b[0m\u001b[1;33m=\u001b[0m\u001b[0mplt\u001b[0m\u001b[1;33m.\u001b[0m\u001b[0msubplots\u001b[0m\u001b[1;33m(\u001b[0m\u001b[0mfigsize\u001b[0m\u001b[1;33m=\u001b[0m\u001b[1;33m(\u001b[0m\u001b[1;36m18\u001b[0m\u001b[1;33m,\u001b[0m\u001b[1;36m8\u001b[0m\u001b[1;33m)\u001b[0m\u001b[1;33m)\u001b[0m\u001b[1;33m\u001b[0m\u001b[0m\n\u001b[0m\u001b[0;32m      3\u001b[0m \u001b[0mfig\u001b[0m\u001b[1;33m=\u001b[0m\u001b[0msm\u001b[0m\u001b[1;33m.\u001b[0m\u001b[0mgraphics\u001b[0m\u001b[1;33m.\u001b[0m\u001b[0mplot_fit\u001b[0m\u001b[1;33m(\u001b[0m\u001b[0mmodel\u001b[0m\u001b[1;33m,\u001b[0m\u001b[1;34m'Gasto_Publico'\u001b[0m\u001b[1;33m,\u001b[0m\u001b[0max\u001b[0m\u001b[1;33m=\u001b[0m\u001b[0max\u001b[0m\u001b[1;33m)\u001b[0m\u001b[1;33m\u001b[0m\u001b[0m\n",
      "\u001b[1;31mNameError\u001b[0m: name 'plt' is not defined"
     ]
    }
   ],
   "source": [
    "import statsmodels.api as sm #para hacer gráfico de intervalos\n",
    "fig,ax=plt.subplots(figsize=(18,8))\n",
    "fig=sm.graphics.plot_fit(model,'Gasto_Publico',ax=ax)"
   ]
  },
  {
   "cell_type": "code",
   "execution_count": null,
   "metadata": {
    "collapsed": true
   },
   "outputs": [],
   "source": [
    "#prediccion de nuevos datos\n",
    "valor_y_predicho = model.predict(Datos_sin_Mexico['Gasto_Publico'])\n",
    "#print(ypred)"
   ]
  },
  {
   "cell_type": "code",
   "execution_count": null,
   "metadata": {
    "collapsed": true,
    "scrolled": false
   },
   "outputs": [],
   "source": [
    "# intervalos de prediccion\n",
    "from statsmodels.sandbox.regression.predstd import wls_prediction_std #para intervalos de predicción\n",
    "prstd, iv_l, iv_u = wls_prediction_std(model)\n",
    "\n",
    "intervalos_datos={'a.-Valor x': np.array(Datos_sin_Mexico['Gasto_Publico']),\n",
    "                  'b.-Valor y': np.array(Datos_sin_Mexico['Tasa_Crecimiento']),\n",
    "                  'c.-Límite predicción bajo':np.array(iv_l),\n",
    "                  'd.-Valor predicho y':np.array(valor_y_predicho),\n",
    "                  'e.-Límite predicción alto':np.array(iv_u),                                    \n",
    "                 }\n",
    "intervalos=pd.DataFrame(intervalos_datos)\n",
    "intervalos.sort_values(by=['a.-Valor x'],ascending=[True])#.head(7) #ordenarlos de más bajo a más alto\n",
    "intervalos"
   ]
  },
  {
   "cell_type": "code",
   "execution_count": null,
   "metadata": {
    "collapsed": true
   },
   "outputs": [],
   "source": [
    "#sacar el valor t de tablas\n",
    "from scipy import stats # para sacar el valor t de tablas\n",
    "a=0.05/2 #nivel de alfa que queremos\n",
    "n=65 #numero de la muestra\n",
    "k=1 #número de variables independientes\n",
    "gld=n-1-k #grados de libertad\n",
    "q=1-a\n",
    "t=stats.t.ppf(q,gld)\n",
    "t\n",
    "#intervalo de confianza\n",
    "#valor predicho +- valor t * error estandar de la media predicha\n"
   ]
  },
  {
   "cell_type": "code",
   "execution_count": null,
   "metadata": {
    "collapsed": true
   },
   "outputs": [],
   "source": [
    "#definiendo \"x\" y \"y\"\n",
    "x1=np.array(Datos_sin_Mexico.Gasto_Publico)\n",
    "y1=np.array(Datos_sin_Mexico.Tasa_Crecimiento)"
   ]
  },
  {
   "cell_type": "code",
   "execution_count": null,
   "metadata": {
    "collapsed": true
   },
   "outputs": [],
   "source": [
    "from statsmodels.stats.outliers_influence import summary_table\n",
    "st, data, ss2 = summary_table(model, alpha=0.05)\n",
    "fittedvalues = data[:,2]\n",
    "predict_mean_se  = data[:,3]\n",
    "predict_mean_ci_low, predict_mean_ci_upp = data[:,4:6].T\n",
    "predict_ci_low, predict_ci_upp = data[:,6:8].T\n",
    "\n",
    "plt.figure(figsize=(12,6))\n",
    "plt.title(\"Modelo de Regresión Lineal\")\n",
    "plt.xlabel(\"Gasto Público\")\n",
    "plt.ylabel(\"Tasa de Crecimiento\")\n",
    "plt.plot(x1,y1, 'o')\n",
    "plt.plot(x1, fittedvalues, 'y-', lw=2)\n",
    "plt.plot(x1, predict_ci_low, 'r--', lw=2)\n",
    "plt.plot(x1, predict_ci_upp, 'r--', lw=2)\n",
    "plt.plot(x1, predict_mean_ci_low, 'g--', lw=2)\n",
    "plt.plot(x1, predict_mean_ci_upp, 'g--', lw=2)\n",
    "plt.legend([\"valores\",\"y = 0.725516261512 + 0.31130222*x\",\"intervalos predicción\",\"\" ,\"intervalos de confianza\"], loc=\"upper left\")\n",
    "plt.show()"
   ]
  },
  {
   "cell_type": "code",
   "execution_count": null,
   "metadata": {
    "collapsed": true
   },
   "outputs": [],
   "source": [
    "from statsmodels.stats.outliers_influence import summary_table #para la tabla de los intervalos de confianza\n",
    "st, data, ss2 = summary_table(model, alpha=0.05)\n",
    "print(st)"
   ]
  },
  {
   "cell_type": "code",
   "execution_count": null,
   "metadata": {
    "collapsed": true
   },
   "outputs": [],
   "source": [
    "#no me sirvió pa ni madres\n",
    "model.conf_int (alpha = 0.05, cols = None)"
   ]
  },
  {
   "cell_type": "markdown",
   "metadata": {},
   "source": [
    "## regresión con Scikilearn"
   ]
  },
  {
   "cell_type": "code",
   "execution_count": null,
   "metadata": {
    "collapsed": true
   },
   "outputs": [],
   "source": [
    "#importar libreria para la regresion\n",
    "from sklearn.linear_model import LinearRegression"
   ]
  },
  {
   "cell_type": "code",
   "execution_count": null,
   "metadata": {
    "collapsed": true
   },
   "outputs": [],
   "source": [
    "#variables x y y\n",
    "\n",
    "##################### forma1 #################################\n",
    "#x=np.array(Datos_sin_Mexico.Gasto_Publico).reshape((-1,1))\n",
    "#y=np.array(Datos_sin_Mexico.Tasa_Crecimiento)\n",
    "\n",
    "##################### forma2 #################################\n",
    "#x1=Datos_sin_Mexico.Gasto_Publico\n",
    "#y=Datos_sin_Mexico.Tasa_Crecimiento\n",
    "#x=x1[:,np.newaxis]\n",
    "\n",
    "##################### forma3 #################################\n",
    "x1=Datos_sin_Mexico.iloc[:,2].values\n",
    "y=Datos_sin_Mexico.iloc[:,3].values\n",
    "x=x1[:,np.newaxis]"
   ]
  },
  {
   "cell_type": "code",
   "execution_count": null,
   "metadata": {
    "collapsed": true
   },
   "outputs": [],
   "source": [
    "plt.scatter(x,y)\n",
    "plt.xlabel(\"xxxxxxx\")\n",
    "plt.ylabel(\"yyyyyyy\")\n",
    "plt.show()"
   ]
  },
  {
   "cell_type": "code",
   "execution_count": null,
   "metadata": {
    "collapsed": true
   },
   "outputs": [],
   "source": [
    "from sklearn.metrics import mean_squared_error #para el error cuadrático medio\n",
    "from math import sqrt #para raiz cuadrada\n",
    "model1=LinearRegression()\n",
    "model1.fit(x,y)\n",
    "R_sq1=model1.score(x,y)\n",
    "y_pred1=model1.predict(x)\n",
    "ecm1=mean_squared_error(y,y_pred1)\n",
    "rms1 = sqrt(mean_squared_error(y,y_pred1))"
   ]
  },
  {
   "cell_type": "code",
   "execution_count": null,
   "metadata": {
    "collapsed": true
   },
   "outputs": [],
   "source": [
    "print(\"Intercepto a\",model1.intercept_)\n",
    "print(\"Pendiente b\",model1.coef_)\n",
    "print(\"Coeficiente de determinación\",R_sq1)\n",
    "print(\"Error cuadrático medio\",ecm1)\n",
    "print(\"Raiz del error cuadrático medio\", rms1)\n",
    "print(\"y = \"+ str(model1.intercept_) + \" + \"+ str(model1.coef_) +\"*\"+\"x\" )"
   ]
  },
  {
   "cell_type": "code",
   "execution_count": null,
   "metadata": {
    "collapsed": true
   },
   "outputs": [],
   "source": [
    "plt.figure(figsize=(12,6))\n",
    "plt.scatter(x, y)\n",
    "plt.grid()\n",
    "plt.title(\"Modelo de Regresión Lineal\")\n",
    "plt.xlabel(\"Gasto Público\")\n",
    "plt.ylabel(\"Tasa de Crecimiento\")\n",
    "plt.plot(x,y_pred1,color=\"red\",linewidth=2)\n",
    "plt.legend([\"y = 0.725516261512 + 0.31130222*x\"], loc=\"upper left\")\n",
    "plt.show()"
   ]
  },
  {
   "cell_type": "code",
   "execution_count": null,
   "metadata": {
    "collapsed": true
   },
   "outputs": [],
   "source": [
    "#Predicciones\n",
    "x_nuevosDatos=np.array([10,11,12]).reshape((-1,1))\n",
    "y_predicciones=model1.predict(x_nuevosDatos)\n",
    "print(y_predicciones.round(2))"
   ]
  }
 ],
 "metadata": {
  "kernelspec": {
   "display_name": "Python 3",
   "language": "python",
   "name": "python3"
  },
  "language_info": {
   "codemirror_mode": {
    "name": "ipython",
    "version": 3
   },
   "file_extension": ".py",
   "mimetype": "text/x-python",
   "name": "python",
   "nbconvert_exporter": "python",
   "pygments_lexer": "ipython3",
   "version": "3.6.2"
  }
 },
 "nbformat": 4,
 "nbformat_minor": 2
}
