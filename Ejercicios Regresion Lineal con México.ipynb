{
 "cells": [
  {
   "cell_type": "code",
   "execution_count": 1,
   "metadata": {
    "collapsed": true
   },
   "outputs": [],
   "source": [
    "%matplotlib inline \n",
    "import pandas as pd\n",
    "import numpy as np\n",
    "import matplotlib.pyplot as plt\n",
    "import seaborn as sns"
   ]
  },
  {
   "cell_type": "code",
   "execution_count": 2,
   "metadata": {
    "collapsed": true
   },
   "outputs": [],
   "source": [
    "#Traemos la base y la convertimos en dataFrame\n",
    "Base_de_Datos= pd.read_excel('GPA_Y_CRECIMIENTO.xlsx')\n",
    "Datos=pd.DataFrame(Base_de_Datos)"
   ]
  },
  {
   "cell_type": "code",
   "execution_count": 11,
   "metadata": {},
   "outputs": [
    {
     "data": {
      "text/html": [
       "<div>\n",
       "<style>\n",
       "    .dataframe thead tr:only-child th {\n",
       "        text-align: right;\n",
       "    }\n",
       "\n",
       "    .dataframe thead th {\n",
       "        text-align: left;\n",
       "    }\n",
       "\n",
       "    .dataframe tbody tr th {\n",
       "        vertical-align: top;\n",
       "    }\n",
       "</style>\n",
       "<table border=\"1\" class=\"dataframe\">\n",
       "  <thead>\n",
       "    <tr style=\"text-align: right;\">\n",
       "      <th></th>\n",
       "      <th>Pais</th>\n",
       "      <th>Estatus</th>\n",
       "      <th>Gasto_Publico</th>\n",
       "      <th>Tasa_Crecimiento</th>\n",
       "    </tr>\n",
       "  </thead>\n",
       "  <tbody>\n",
       "    <tr>\n",
       "      <th>0</th>\n",
       "      <td>ARGENTINA_DA</td>\n",
       "      <td>BIEN</td>\n",
       "      <td>3.571429</td>\n",
       "      <td>2.0625</td>\n",
       "    </tr>\n",
       "    <tr>\n",
       "      <th>1</th>\n",
       "      <td>ARGENTINA_IR</td>\n",
       "      <td>BIEN</td>\n",
       "      <td>3.800000</td>\n",
       "      <td>2.1000</td>\n",
       "    </tr>\n",
       "    <tr>\n",
       "      <th>2</th>\n",
       "      <td>ARGENTINA_JO</td>\n",
       "      <td>BIEN</td>\n",
       "      <td>3.571429</td>\n",
       "      <td>2.0625</td>\n",
       "    </tr>\n",
       "    <tr>\n",
       "      <th>3</th>\n",
       "      <td>ARGENTINA_PI</td>\n",
       "      <td>BIEN</td>\n",
       "      <td>3.690000</td>\n",
       "      <td>2.1600</td>\n",
       "    </tr>\n",
       "    <tr>\n",
       "      <th>4</th>\n",
       "      <td>BOLIVIA_DA</td>\n",
       "      <td>BIEN</td>\n",
       "      <td>5.357143</td>\n",
       "      <td>1.8125</td>\n",
       "    </tr>\n",
       "    <tr>\n",
       "      <th>5</th>\n",
       "      <td>BOLIVIA_IR</td>\n",
       "      <td>BIEN</td>\n",
       "      <td>5.800000</td>\n",
       "      <td>1.8000</td>\n",
       "    </tr>\n",
       "    <tr>\n",
       "      <th>6</th>\n",
       "      <td>BOLIVIA_JO</td>\n",
       "      <td>BIEN</td>\n",
       "      <td>5.357143</td>\n",
       "      <td>1.8125</td>\n",
       "    </tr>\n",
       "  </tbody>\n",
       "</table>\n",
       "</div>"
      ],
      "text/plain": [
       "           Pais Estatus  Gasto_Publico  Tasa_Crecimiento\n",
       "0  ARGENTINA_DA    BIEN       3.571429            2.0625\n",
       "1  ARGENTINA_IR    BIEN       3.800000            2.1000\n",
       "2  ARGENTINA_JO    BIEN       3.571429            2.0625\n",
       "3  ARGENTINA_PI    BIEN       3.690000            2.1600\n",
       "4    BOLIVIA_DA    BIEN       5.357143            1.8125\n",
       "5    BOLIVIA_IR    BIEN       5.800000            1.8000\n",
       "6    BOLIVIA_JO    BIEN       5.357143            1.8125"
      ]
     },
     "execution_count": 11,
     "metadata": {},
     "output_type": "execute_result"
    }
   ],
   "source": [
    "Datos.head(7) #sólo para ver la estructura de datos\n",
    "\n",
    "##ORDENAR"
   ]
  },
  {
   "cell_type": "code",
   "execution_count": 14,
   "metadata": {},
   "outputs": [
    {
     "data": {
      "text/plain": [
       "0    BIEN\n",
       "1    BIEN\n",
       "2    BIEN\n",
       "3    BIEN\n",
       "4    BIEN\n",
       "Name: Estatus, dtype: object"
      ]
     },
     "execution_count": 14,
     "metadata": {},
     "output_type": "execute_result"
    }
   ],
   "source": [
    "#Base_de_Datos['Estatus'] #podemos traer así la variable\n",
    "#Base_de_Datos.Estatus #también la podemos traer así\n",
    "#Base_de_Datos.Estatus.head(6) #traer solo un cierto número\n"
   ]
  },
  {
   "cell_type": "code",
   "execution_count": 18,
   "metadata": {},
   "outputs": [
    {
     "name": "stdout",
     "output_type": "stream",
     "text": [
      "0.47 23.0\n",
      "0.47619047619 5.8\n"
     ]
    }
   ],
   "source": [
    "#imprimir el mínimo y máximo de las variables\n",
    "\n",
    "print(min(Datos.Gasto_Publico), max(Datos.Gasto_Publico))\n",
    "print(min(Datos.Tasa_Crecimiento), max(Datos.Tasa_Crecimiento))"
   ]
  },
  {
   "cell_type": "code",
   "execution_count": 21,
   "metadata": {},
   "outputs": [
    {
     "data": {
      "image/png": "[encoded data removed]",
      "text/plain": [
       "<matplotlib.figure.Figure at 0x1c73add59b0>"
      ]
     },
     "metadata": {},
     "output_type": "display_data"
    }
   ],
   "source": [
    "sns.set(style=\"darkgrid\")\n",
    "\n",
    "g = sns.jointplot(\"Gasto_Publico\", \"Tasa_Crecimiento\", data=Datos,kind=\"reg\",\n",
    "                  xlim=(0, 25), ylim=(0, 7), color=\"g\")\n",
    "\n",
    "##AGREGAR UN TITULO"
   ]
  },
  {
   "cell_type": "code",
   "execution_count": 22,
   "metadata": {
    "collapsed": true
   },
   "outputs": [],
   "source": [
    "#importar libreria para la regresion\n",
    "from sklearn.linear_model import LinearRegression"
   ]
  },
  {
   "cell_type": "code",
   "execution_count": 23,
   "metadata": {
    "collapsed": true
   },
   "outputs": [],
   "source": [
    "x=np.array(Datos.Gasto_Publico).reshape((-1,1))\n",
    "y=np.array(Datos.Tasa_Crecimiento)"
   ]
  },
  {
   "cell_type": "code",
   "execution_count": 24,
   "metadata": {
    "collapsed": true
   },
   "outputs": [],
   "source": [
    "#entrenamos el modelo\n",
    "model=LinearRegression()\n",
    "model.fit(x,y)\n",
    "R_sq=model.score(x,y)"
   ]
  },
  {
   "cell_type": "code",
   "execution_count": 25,
   "metadata": {},
   "outputs": [
    {
     "name": "stdout",
     "output_type": "stream",
     "text": [
      "coeficiente de determinación 0.220908049904\n",
      "intercepto b0 1.73153358567\n",
      "pendiente b1 [ 0.12918515]\n"
     ]
    }
   ],
   "source": [
    "print(\"coeficiente de determinación\",R_sq)\n",
    "print(\"intercepto b0\",model.intercept_)\n",
    "print(\"pendiente b1\",model.coef_)"
   ]
  },
  {
   "cell_type": "code",
   "execution_count": null,
   "metadata": {
    "collapsed": true
   },
   "outputs": [],
   "source": []
  }
 ],
 "metadata": {
  "kernelspec": {
   "display_name": "Python 3",
   "language": "python",
   "name": "python3"
  },
  "language_info": {
   "codemirror_mode": {
    "name": "ipython",
    "version": 3
   },
   "file_extension": ".py",
   "mimetype": "text/x-python",
   "name": "python",
   "nbconvert_exporter": "python",
   "pygments_lexer": "ipython3",
   "version": "3.6.2"
  }
 },
 "nbformat": 4,
 "nbformat_minor": 2
}
